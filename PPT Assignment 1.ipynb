{
 "cells": [
  {
   "cell_type": "raw",
   "id": "19a0b34b",
   "metadata": {},
   "source": [
    "**Q1.** Given an array of integers nums and an integer target, return indices of the two numbers such that they add up to target.\n",
    "\n",
    "You may assume that each input would have exactly one solution, and you may not use the same element twice.\n",
    "\n",
    "You can return the answer in any order.\n",
    "\n",
    "**Example:**\n",
    "Input: nums = [2,7,11,15], target = 9\n",
    "Output0 [0,1]\n",
    "\n",
    "**Explanation:** Because nums[0] + nums[1] == 9, we return [0, 1][\n",
    "\n"
   ]
  },
  {
   "cell_type": "code",
   "execution_count": 7,
   "id": "cc60fe0d",
   "metadata": {},
   "outputs": [
    {
     "data": {
      "text/plain": [
       "[0, 1]"
      ]
     },
     "execution_count": 7,
     "metadata": {},
     "output_type": "execute_result"
    }
   ],
   "source": [
    "nums = [2,7,11,15]\n",
    "target = 9\n",
    "\n",
    "def find_target(nums,target):\n",
    "    for i in range(len(nums)):\n",
    "        for j in range(i+1,len(nums)):\n",
    "            if nums[i]+nums[j] == target:\n",
    "                return [i,j]\n",
    "\n",
    "find_target(nums,target)"
   ]
  },
  {
   "cell_type": "raw",
   "id": "b4eac400",
   "metadata": {},
   "source": [
    "**Q2.** Given an integer array nums and an integer val, remove all occurrences of val in nums in-place. The order of the elements may be changed. Then return the number of elements in nums which are not equal to val.\n",
    "\n",
    "Consider the number of elements in nums which are not equal to val be k, to get accepted, you need to do the following things:\n",
    "\n",
    "- Change the array nums such that the first k elements of nums contain the elements which are not equal to val. The remaining elements of nums are not important as well as the size of nums.\n",
    "- Return k.\n",
    "\n",
    "**Example :**\n",
    "Input: nums = [3,2,2,3], val = 3\n",
    "Output: 2, nums = [2,2,_*,_*]\n",
    "\n",
    "**Explanation:** Your function should return k = 2, with the first two elements of nums being 2. It does not matter what you leave beyond the returned k (hence they are underscores)[\n"
   ]
  },
  {
   "cell_type": "code",
   "execution_count": 4,
   "id": "7b4e571e",
   "metadata": {},
   "outputs": [
    {
     "data": {
      "text/plain": [
       "(6, [2, 2, 2, 5, 6, 7, '_', '_', '_'])"
      ]
     },
     "execution_count": 4,
     "metadata": {},
     "output_type": "execute_result"
    }
   ],
   "source": [
    "nums =[3,2,2,3,2,5,6,7,3]\n",
    "val = 3\n",
    "\n",
    "def notvalnums(nums,val):\n",
    "    cnt=0\n",
    "    for i in nums:\n",
    "        if i == val:\n",
    "            nums.remove(i)\n",
    "            nums.append('_')\n",
    "            cnt+=1\n",
    "    return len(nums)-cnt,nums\n",
    "\n",
    "notvalnums(nums,val)"
   ]
  },
  {
   "cell_type": "raw",
   "id": "d0eae863",
   "metadata": {},
   "source": [
    "**Q3.** Given a sorted array of distinct integers and a target value, return the index if the target is found. If not, return the index where it would be if it were inserted in order.\n",
    "\n",
    "You must write an algorithm with O(log n) runtime complexity.\n",
    "\n",
    "**Example 1:**\n",
    "Input: nums = [1,3,5,6], target = 5\n",
    "\n",
    "Output: 2\n"
   ]
  },
  {
   "cell_type": "code",
   "execution_count": 11,
   "id": "d1310275",
   "metadata": {},
   "outputs": [
    {
     "data": {
      "text/plain": [
       "0"
      ]
     },
     "execution_count": 11,
     "metadata": {},
     "output_type": "execute_result"
    }
   ],
   "source": [
    "nums = [1,3,5,6]\n",
    "target = 1\n",
    "low,high = 0,len(nums)\n",
    "\n",
    "def binarySearch(nums,low,high,target):\n",
    "    mid = (low + high)//2\n",
    "    \n",
    "    \n",
    "    if nums[mid]==target:\n",
    "        return mid\n",
    "    \n",
    "    elif nums[mid]< target:\n",
    "        return binarySearch(nums,mid,high,target)\n",
    "    else:\n",
    "        return binarySearch(nums,low,mid,target)\n",
    "    \n",
    "    \n",
    "binarySearch(nums,low,high,target)"
   ]
  },
  {
   "cell_type": "raw",
   "id": "2be5eff7",
   "metadata": {},
   "source": [
    "**Q4.** You are given a large integer represented as an integer array digits, where each digits[i] is the ith digit of the integer. The digits are ordered from most significant to least significant in left-to-right order. The large integer does not contain any leading 0's.\n",
    "\n",
    "Increment the large integer by one and return the resulting array of digits.\n",
    "\n",
    "**Example 1:**\n",
    "Input: digits = [1,2,3]\n",
    "Output: [1,2,4]\n",
    "\n",
    "**Explanation:** The array represents the integer 123.\n",
    "\n",
    "Incrementing by one gives 123 + 1 = 124.\n",
    "Thus, the result should be [1,2,4].\n"
   ]
  },
  {
   "cell_type": "code",
   "execution_count": 33,
   "id": "78244651",
   "metadata": {},
   "outputs": [
    {
     "data": {
      "text/plain": [
       "[1, 2, 4]"
      ]
     },
     "execution_count": 33,
     "metadata": {},
     "output_type": "execute_result"
    }
   ],
   "source": [
    "digits = [1,2,3]\n",
    "\n",
    "def addone_sumup(digits):\n",
    "    ind = -1\n",
    "    sumup = 0\n",
    "    for i in range(len(digits)):\n",
    "        sumup += digits[ind]*(10**i)\n",
    "        ind-=1\n",
    "    sumup+=1\n",
    "    \n",
    "    digits = []\n",
    "    while sumup!=0:\n",
    "        \n",
    "        rem = sumup%10\n",
    "        sumup = sumup//10\n",
    "        \n",
    "        digits.insert(0,rem)\n",
    "    \n",
    "    return digits\n",
    "        \n",
    "\n",
    "addone_sumup(digits)"
   ]
  },
  {
   "cell_type": "raw",
   "id": "c5d677c9",
   "metadata": {},
   "source": [
    " **Q5.** You are given two integer arrays nums1 and nums2, sorted in non-decreasing order, and two integers m and n, representing the number of elements in nums1 and nums2 respectively.\n",
    "\n",
    "Merge nums1 and nums2 into a single array sorted in non-decreasing order.\n",
    "\n",
    "The final sorted array should not be returned by the function, but instead be stored inside the array nums1. To accommodate this, nums1 has a length of m + n, where the first m elements denote the elements that should be merged, and the last n elements are set to 0 and should be ignored. nums2 has a length of n.\n",
    "\n",
    "**Example 1:**\n",
    "Input: nums1 = [1,2,3,0,0,0], m = 3, nums2 = [2,5,6], n = 3\n",
    "Output: [1,2,2,3,5,6]\n",
    "\n",
    "**Explanation:** The arrays we are merging are [1,2,3] and [2,5,6].\n",
    "The result of the merge is [1,2,2,3,5,6] with the underlined elements coming from nums1.\n"
   ]
  },
  {
   "cell_type": "code",
   "execution_count": 36,
   "id": "1256d654",
   "metadata": {},
   "outputs": [
    {
     "data": {
      "text/plain": [
       "[1, 2, 2, 3, 5, 6]"
      ]
     },
     "execution_count": 36,
     "metadata": {},
     "output_type": "execute_result"
    }
   ],
   "source": [
    "nums1=[1,2,3,0,0,0]\n",
    "nums2=[2,5,6]\n",
    "m=3\n",
    "n=3\n",
    "\n",
    "def merge2list(nums1,nums2,m,n):\n",
    "    nums = nums1[:m]+nums2[:n]\n",
    "    for i in range(len(nums)):\n",
    "        for j in range(i+1,len(nums)):\n",
    "            if nums[j-1]> nums[j]:\n",
    "                nums[j-1],nums[j] = nums[j],nums[j-1]\n",
    "    return nums\n",
    "\n",
    "merge2list(nums1,nums2,m,n)"
   ]
  },
  {
   "cell_type": "raw",
   "id": "1188f9c2",
   "metadata": {},
   "source": [
    " **Q6.** Given an integer array nums, return true if any value appears at least twice in the array, and return false if every element is distinct.\n",
    "\n",
    "**Example 1:**\n",
    "Input: nums = [1,2,3,1]\n",
    "\n",
    "Output: true"
   ]
  },
  {
   "cell_type": "code",
   "execution_count": 62,
   "id": "9c6f8fe6",
   "metadata": {},
   "outputs": [
    {
     "name": "stdout",
     "output_type": "stream",
     "text": [
      "{1: 1, 2: 1, 3: 2}\n"
     ]
    },
    {
     "data": {
      "text/plain": [
       "True"
      ]
     },
     "execution_count": 62,
     "metadata": {},
     "output_type": "execute_result"
    }
   ],
   "source": [
    "nums = [1,2,3,3]\n",
    "def appear_twice(nums):\n",
    "    dct = {}\n",
    "    for i in range(len(nums)):\n",
    "        if nums[i] not in dct:\n",
    "            dct[nums[i]] = 1\n",
    "        else:\n",
    "            dct[nums[i]]+=1\n",
    "    \n",
    "    for i in dct.values():\n",
    "        if i >= 2:\n",
    "            return True \n",
    "    else:\n",
    "        return False\n",
    "        \n",
    "appear_twice(nums)"
   ]
  },
  {
   "cell_type": "raw",
   "id": "49e6ff34",
   "metadata": {},
   "source": [
    "\n",
    "💡 **Q7.** Given an integer array nums, move all 0's to the end of it while maintaining the relative order of the nonzero elements.\n",
    "\n",
    "Note that you must do this in-place without making a copy of the array.\n",
    "\n",
    "**Example 1:**\n",
    "Input: nums = [0,1,0,3,12]\n",
    "Output: [1,3,12,0,0]\n"
   ]
  },
  {
   "cell_type": "code",
   "execution_count": 79,
   "id": "63838dcc",
   "metadata": {},
   "outputs": [
    {
     "data": {
      "text/plain": [
       "[1, 3, 12, 0, 0]"
      ]
     },
     "execution_count": 79,
     "metadata": {},
     "output_type": "execute_result"
    }
   ],
   "source": [
    "def zero_to_last(nums,j):\n",
    "    for i in range(j,len(nums)):\n",
    "        if i == len(nums)-1:\n",
    "            break\n",
    "        else:\n",
    "            nums[i],nums[i+1] = nums[i+1],nums[i]\n",
    "    return nums\n",
    "\n",
    "\n",
    "\n",
    "def move_zeroes(nums):\n",
    "    for j in range(len(nums)):\n",
    "        if nums[j] == 0:\n",
    "            nums = zero_to_last(nums,j)\n",
    "    return nums\n",
    "\n",
    "\n",
    "nums = [0,1,0,3,12]\n",
    "move_zeroes(nums)"
   ]
  },
  {
   "cell_type": "raw",
   "id": "44e58de8",
   "metadata": {},
   "source": [
    "<aside>\n",
    "💡 **Q8.** You have a set of integers s, which originally contains all the numbers from 1 to n. Unfortunately, due to some error, one of the numbers in s got duplicated to another number in the set, which results in repetition of one number and loss of another number.\n",
    "\n",
    "You are given an integer array nums representing the data status of this set after the error.\n",
    "\n",
    "Find the number that occurs twice and the number that is missing and return them in the form of an array.\n",
    "\n",
    "**Example 1:**\n",
    "Input: nums = [1,2,2,4]\n",
    "Output: [2,3]\n",
    "\n",
    "</aside>"
   ]
  },
  {
   "cell_type": "code",
   "execution_count": 105,
   "id": "525dd74d",
   "metadata": {},
   "outputs": [
    {
     "data": {
      "text/plain": [
       "[4, 5]"
      ]
     },
     "execution_count": 105,
     "metadata": {},
     "output_type": "execute_result"
    }
   ],
   "source": [
    "nums = [1,2,3,4,4]\n",
    "def find_missing(nums):\n",
    "    for i in range(len(nums)):\n",
    "        if nums[i] != i+1:\n",
    "            if nums[i] > i:\n",
    "                nums[i] = i+1\n",
    "                return [nums[i],nums[i+1]]\n",
    "            else:\n",
    "                nums[i] = i+1\n",
    "                return [nums[i-1],nums[i]]\n",
    "find_missing(nums)"
   ]
  },
  {
   "cell_type": "code",
   "execution_count": null,
   "id": "3baf3b6a",
   "metadata": {},
   "outputs": [],
   "source": []
  }
 ],
 "metadata": {
  "kernelspec": {
   "display_name": "Python 3 (ipykernel)",
   "language": "python",
   "name": "python3"
  },
  "language_info": {
   "codemirror_mode": {
    "name": "ipython",
    "version": 3
   },
   "file_extension": ".py",
   "mimetype": "text/x-python",
   "name": "python",
   "nbconvert_exporter": "python",
   "pygments_lexer": "ipython3",
   "version": "3.10.9"
  }
 },
 "nbformat": 4,
 "nbformat_minor": 5
}
