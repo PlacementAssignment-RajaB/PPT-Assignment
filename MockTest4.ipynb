{
  "nbformat": 4,
  "nbformat_minor": 0,
  "metadata": {
    "colab": {
      "provenance": []
    },
    "kernelspec": {
      "name": "python3",
      "display_name": "Python 3"
    },
    "language_info": {
      "name": "python"
    }
  },
  "cells": [
    {
      "cell_type": "markdown",
      "source": [
        "17. Write a function that takes a list of numbers as input and returns a new list containing only the even numbers from the input list. Use list comprehension to solve this problem.\n",
        "\n",
        "Example:\n",
        "\n",
        "Input: [1, 2, 3, 4, 5, 6, 7, 8, 9, 10]\n",
        "\n",
        "Output: [2, 4, 6, 8, 10]"
      ],
      "metadata": {
        "id": "lgzBkT8epenE"
      }
    },
    {
      "cell_type": "code",
      "execution_count": 1,
      "metadata": {
        "colab": {
          "base_uri": "https://localhost:8080/"
        },
        "id": "zZlqbOKCpVsQ",
        "outputId": "a9c693d8-2160-4f32-8b56-42d7d663d117"
      },
      "outputs": [
        {
          "output_type": "stream",
          "name": "stdout",
          "text": [
            "[2, 4, 6, 8, 10]\n"
          ]
        }
      ],
      "source": [
        "def get_even_numbers(numbers):\n",
        "  return [number for number in numbers if number % 2 == 0]\n",
        "\n",
        "\n",
        "\n",
        "numbers = [1, 2, 3, 4, 5, 6, 7, 8, 9, 10]\n",
        "even_numbers = get_even_numbers(numbers)\n",
        "print(even_numbers)\n"
      ]
    },
    {
      "cell_type": "markdown",
      "source": [
        "18. Implement a decorator function called ‘timer’ that measures the execution time of a function. The ‘timer’ decorator should print the time taken by the decorated function to execute. Use the ‘time’ module in Python to calculate the execution time.\n",
        "\n",
        "Example:\n",
        "\n",
        "import time\n",
        "\n",
        "@timer\n",
        "def my_function():\n",
        "    # Function code goes here\n",
        "    time.sleep(2)\n",
        "\n",
        "my_function()\n",
        "\n",
        "Output:\n",
        "\"Execution time: 2.00123 seconds\""
      ],
      "metadata": {
        "id": "qcRfbhtrpg0d"
      }
    },
    {
      "cell_type": "code",
      "source": [
        "import time\n",
        "\n",
        "def timer(func):\n",
        "\n",
        "  def wrapper(*args, **kwargs):\n",
        "\n",
        "    start_time = time.time()\n",
        "    result = func(*args, **kwargs)\n",
        "    end_time = time.time()\n",
        "    print(\"Execution time: {} seconds\".format(end_time - start_time))\n",
        "    return result\n",
        "\n",
        "  return wrapper\n",
        "\n",
        "\n",
        "@timer\n",
        "def my_function():\n",
        "  time.sleep(2)\n",
        "\n",
        "my_function()\n"
      ],
      "metadata": {
        "colab": {
          "base_uri": "https://localhost:8080/"
        },
        "id": "uay0Nmwspjfe",
        "outputId": "b036a3c7-0fcc-4afc-eb13-c2378060d26f"
      },
      "execution_count": 2,
      "outputs": [
        {
          "output_type": "stream",
          "name": "stdout",
          "text": [
            "Execution time: 2.002082586288452 seconds\n"
          ]
        }
      ]
    },
    {
      "cell_type": "markdown",
      "source": [
        "19. Write a function called ‘calculate_mean’ that takes a list of numbers as input and returns the mean (average) of the numbers. The function should calculate the mean using the sum of the numbers divided by the total count.\n",
        "\n",
        "Example:\n",
        "\n",
        "def calculate_mean(numbers):\n",
        "    total = sum(numbers)\n",
        "    count = len(numbers)\n",
        "    mean = total / count\n",
        "    return mean\n",
        "\n",
        "data = [10, 15, 20, 25, 30]\n",
        "mean_value = calculate_mean(data)\n",
        "print(\"Mean:\", mean_value)\n",
        "\n",
        "Output:\n",
        "Mean: 20.0"
      ],
      "metadata": {
        "id": "bC4oRXmfqVjk"
      }
    },
    {
      "cell_type": "code",
      "source": [
        "def calculate_mean(numbers):\n",
        "  total = sum(numbers)\n",
        "  count = len(numbers)\n",
        "  mean = total / count\n",
        "  return mean\n",
        "\n",
        "\n",
        "data = [10, 15, 20, 25, 30]\n",
        "mean_value = calculate_mean(data)\n",
        "print(\"Mean:\", mean_value)\n",
        "\n"
      ],
      "metadata": {
        "colab": {
          "base_uri": "https://localhost:8080/"
        },
        "id": "hgdQL4pQqZNB",
        "outputId": "ae6e620b-600d-4f36-fd3e-d2ecae4d51d6"
      },
      "execution_count": 4,
      "outputs": [
        {
          "output_type": "stream",
          "name": "stdout",
          "text": [
            "Mean: 20.0\n"
          ]
        }
      ]
    },
    {
      "cell_type": "markdown",
      "source": [
        "20. Write a function called ‘perform_hypothesis_test’ that takes two lists of numbers as input, representing two samples. The function should perform a two-sample t-test and return the p-value. Use the ‘scipy.stats’ module in Python to calculate the t-test and p-value.\n",
        "\n",
        "Example:\n",
        "\n",
        "from scipy import stats\n",
        "\n",
        "def perform_hypothesis_test(sample1, sample2):\n",
        "    t_statistic, p_value = stats.ttest_ind(sample1, sample2)\n",
        "    return p_value\n",
        "\n",
        "sample1 = [5, 10, 15, 20, 25]\n",
        "sample2 = [10, 20, 30, 40, 50]\n",
        "p_value = perform_hypothesis_test(sample1, sample2)\n",
        "print(\"P-value:\", p_value)\n",
        "\n",
        "Output:\n",
        "P-value: 0.1064706396450037"
      ],
      "metadata": {
        "id": "NunrY1c-qqfn"
      }
    },
    {
      "cell_type": "code",
      "source": [
        "import scipy.stats as stats\n",
        "\n",
        "def perform_hypothesis_test(sample1, sample2):\n",
        "  t_statistic, p_value = stats.ttest_ind(sample1, sample2)\n",
        "  return p_value\n",
        "\n",
        "\n",
        "sample1 = [5, 10, 15, 20, 25]\n",
        "sample2 = [10, 20, 30, 40, 50]\n",
        "p_value = perform_hypothesis_test(sample1, sample2)\n",
        "print(\"P-value:\", p_value)\n"
      ],
      "metadata": {
        "colab": {
          "base_uri": "https://localhost:8080/"
        },
        "id": "4yZwf-o5qkkl",
        "outputId": "05e82b65-923c-4fc4-c083-2dfeb384497c"
      },
      "execution_count": 5,
      "outputs": [
        {
          "output_type": "stream",
          "name": "stdout",
          "text": [
            "P-value: 0.09434977284243756\n"
          ]
        }
      ]
    }
  ]
}