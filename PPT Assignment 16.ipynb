{
 "cells": [
  {
   "cell_type": "markdown",
   "id": "11910ad3",
   "metadata": {},
   "source": [
    "<aside>\n",
    "💡 **Question 1**\n",
    "\n",
    "Given an array, for each element find the value of the nearest element to the right which is having a frequency greater than that of the current element. If there does not exist an answer for a position, then make the value ‘-1’.\n",
    "\n",
    "**Examples:**\n",
    "    Input: a[] = [1, 1, 2, 3, 4, 2, 1]\n",
    "Output : [-1, -1, 1, 2, 2, 1, -1]\n",
    "\n",
    "Explanation:\n",
    "Given array a[] = [1, 1, 2, 3, 4, 2, 1]\n",
    "Frequency of each element is: 3, 3, 2, 1, 1, 2, 3\n",
    "\n",
    "Lets calls Next Greater Frequency element as NGF\n",
    "1. For element a[0] = 1 which has a frequency = 3,\n",
    "   As it has frequency of 3 and no other next element\n",
    "   has frequency more than 3 so  '-1'\n",
    "2. For element a[1] = 1 it will be -1 same logic\n",
    "   like a[0]\n",
    "3. For element a[2] = 2 which has frequency = 2,\n",
    "   NGF element is 1 at position = 6  with frequency\n",
    "   of 3 > 2\n",
    "4. For element a[3] = 3 which has frequency = 1,\n",
    "   NGF element is 2 at position = 5 with frequency\n",
    "   of 2 > 1\n",
    "5. For element a[4] = 4 which has frequency = 1,\n",
    "   NGF element is 2 at position = 5 with frequency\n",
    "   of 2 > 1\n",
    "6. For element a[5] = 2 which has frequency = 2,\n",
    "   NGF element is 1 at position = 6 with frequency\n",
    "   of 3 > 2\n",
    "7. For element a[6] = 1 there is no element to its\n",
    "   right, hence -1\n",
    "\n",
    "</aside>"
   ]
  },
  {
   "cell_type": "code",
   "execution_count": 1,
   "id": "bd9a8b80",
   "metadata": {},
   "outputs": [
    {
     "data": {
      "text/plain": [
       "[-1, -1, 1, 2, 2, 1, -1]"
      ]
     },
     "execution_count": 1,
     "metadata": {},
     "output_type": "execute_result"
    }
   ],
   "source": [
    "def find_next_greater_frequency(array):\n",
    "    # Step 1: Calculate frequency\n",
    "    frequency = {}\n",
    "    for element in array:\n",
    "        frequency[element] = frequency.get(element, 0) + 1\n",
    "\n",
    "    # Step 2: Initialize stack and result array\n",
    "    stack = []\n",
    "    result = []\n",
    "\n",
    "    # Step 3: Iterate through the array in reverse order\n",
    "    for i in range(len(array)-1, -1, -1):\n",
    "        # Step 4: Pop elements from stack until a greater frequency element is found\n",
    "        while stack and frequency[array[i]] >= frequency[stack[-1]]:\n",
    "            stack.pop()\n",
    "\n",
    "        # Step 5: Push current element onto stack\n",
    "        stack.append(array[i])\n",
    "\n",
    "        # Step 6: Set result array\n",
    "        if stack[-1] == array[i]:\n",
    "            if not stack[:-1]:\n",
    "                result.append(-1)\n",
    "            else:\n",
    "                result.append(stack[-2])\n",
    "\n",
    "    # Step 7: Reverse result array\n",
    "    result.reverse()\n",
    "    return result\n",
    "\n",
    "find_next_greater_frequency([1,1,2,3,4,2,1])"
   ]
  },
  {
   "cell_type": "markdown",
   "id": "87d81d7d",
   "metadata": {},
   "source": [
    "<aside>\n",
    "💡 **Question 2**\n",
    "\n",
    "Given a stack of integers, sort it in ascending order using another temporary stack.\n",
    "\n",
    "**Examples:**\n",
    "    Input : [34, 3, 31, 98, 92, 23]\n",
    "    Output : [3, 23, 31, 34, 92, 98]\n",
    "\n",
    "    Input : [3, 5, 1, 4, 2, 8]\n",
    "    Output : [1, 2, 3, 4, 5, 8]\n",
    "</aside>"
   ]
  },
  {
   "cell_type": "code",
   "execution_count": 4,
   "id": "a553bd93",
   "metadata": {},
   "outputs": [
    {
     "name": "stdout",
     "output_type": "stream",
     "text": [
      "[98, 92, 34, 31, 23, 3]\n",
      "[8, 5, 4, 3, 2, 1]\n"
     ]
    }
   ],
   "source": [
    "def sort_stack(stack):\n",
    "    temp_stack = []\n",
    "\n",
    "    while stack:\n",
    "        temp = stack.pop()\n",
    "\n",
    "        while temp_stack and temp_stack[-1] > temp:\n",
    "            stack.append(temp_stack.pop())\n",
    "\n",
    "        temp_stack.append(temp)\n",
    "\n",
    "    \n",
    "    sorted_stack = temp_stack[::-1]\n",
    "    return sorted_stack\n",
    "\n",
    "stack1 = [34, 3, 31, 98, 92, 23]\n",
    "result1 = sort_stack(stack1)\n",
    "print(result1)  \n",
    "\n",
    "stack2 = [3, 5, 1, 4, 2, 8]\n",
    "result2 = sort_stack(stack2)\n",
    "print(result2)  \n"
   ]
  },
  {
   "cell_type": "markdown",
   "id": "4729e39e",
   "metadata": {},
   "source": [
    "<aside>\n",
    "💡 **Question 3**\n",
    "\n",
    "Given a stack with **push()**, **pop()**, and **empty()** operations, The task is to delete the **middle** element ****of it without using any additional data structure.\n",
    "\n",
    "Input  : Stack[] = [1, 2, 3, 4, 5]\n",
    "\n",
    "Output : Stack[] = [1, 2, 4, 5]\n",
    "\n",
    "Input  : Stack[] = [1, 2, 3, 4, 5, 6]\n",
    "\n",
    "Output : Stack[] = [1, 2, 4, 5, 6]\n",
    "\n",
    "</aside>"
   ]
  },
  {
   "cell_type": "code",
   "execution_count": 6,
   "id": "d257f41e",
   "metadata": {},
   "outputs": [
    {
     "name": "stdout",
     "output_type": "stream",
     "text": [
      "[1, 2, 3, 5]\n",
      "[1, 2, 3, 4, 5, 6]\n"
     ]
    }
   ],
   "source": [
    "def delete_middle(stack, index=0):\n",
    "    \n",
    "    if not stack:\n",
    "        return\n",
    "\n",
    "    element = stack.pop()\n",
    "\n",
    "    if index == len(stack) // 2:\n",
    "        return\n",
    "\n",
    "    delete_middle(stack, index + 1)\n",
    "\n",
    "    stack.append(element)\n",
    "\n",
    "\n",
    "stack1 = [1, 2, 3, 4, 5]\n",
    "delete_middle(stack1)\n",
    "print(stack1)  \n",
    "\n",
    "stack2 = [1, 2, 3, 4, 5, 6]\n",
    "delete_middle(stack2)\n",
    "print(stack2)  \n"
   ]
  },
  {
   "cell_type": "markdown",
   "id": "11d56a90",
   "metadata": {},
   "source": [
    "<aside>\n",
    "💡 **Question 4**\n",
    "\n",
    "Given a Queue consisting of first **n** natural numbers (in random order). The task is to check whether the given Queue elements can be arranged in increasing order in another Queue using a stack. The operation allowed are:\n",
    "\n",
    "1. Push and pop elements from the stack\n",
    "2. Pop (Or Dequeue) from the given Queue.\n",
    "3. Push (Or Enqueue) in the another Queue.\n",
    "\n",
    "**Examples :**\n",
    "\n",
    "Input : Queue[] = { 5, 1, 2, 3, 4 } \n",
    "\n",
    "Output : Yes \n",
    "\n",
    "Pop the first element of the given Queue \n",
    "\n",
    "i.e 5. Push 5 into the stack. \n",
    "\n",
    "Now, pop all the elements of the given Queue and push them to second Queue. \n",
    "\n",
    "Now, pop element 5 in the stack and push it to the second Queue.   \n",
    "\n",
    "Input : Queue[] = { 5, 1, 2, 6, 3, 4 } \n",
    "\n",
    "Output : No \n",
    "\n",
    "Push 5 to stack. \n",
    "\n",
    "Pop 1, 2 from given Queue and push it to another Queue. \n",
    "\n",
    "Pop 6 from given Queue and push to stack. \n",
    "\n",
    "Pop 3, 4 from given Queue and push to second Queue. \n",
    "\n",
    "Now, from using any of above operation, we cannot push 5 into the second Queue because it is below the 6 in the stack.\n",
    "\n",
    "</aside>"
   ]
  },
  {
   "cell_type": "code",
   "execution_count": 7,
   "id": "726fd666",
   "metadata": {},
   "outputs": [
    {
     "name": "stdout",
     "output_type": "stream",
     "text": [
      "Yes\n",
      "Yes\n"
     ]
    }
   ],
   "source": [
    "def check_queue_order(queue):\n",
    "    stack = []\n",
    "    second_queue = []\n",
    "    expected = 1\n",
    "\n",
    "    while queue:\n",
    "        if queue[0] == expected:\n",
    "            second_queue.append(queue.pop(0))\n",
    "            expected += 1\n",
    "        elif stack and stack[-1] == expected:\n",
    "            second_queue.append(stack.pop())\n",
    "            expected += 1\n",
    "        else:\n",
    "            stack.append(queue.pop(0))\n",
    "\n",
    "    while stack:\n",
    "        second_queue.append(stack.pop())\n",
    "\n",
    "    if not queue and not stack:\n",
    "        return \"Yes\"\n",
    "    else:\n",
    "        return \"No\"\n",
    "\n",
    "\n",
    "queue1 = [5, 1, 2, 3, 4]\n",
    "result1 = check_queue_order(queue1)\n",
    "print(result1)  \n",
    "queue2 = [5, 1, 2, 6, 3, 4]\n",
    "result2 = check_queue_order(queue2)\n",
    "print(result2)  \n"
   ]
  },
  {
   "cell_type": "markdown",
   "id": "b1f5963a",
   "metadata": {},
   "source": [
    "<aside>\n",
    "💡 **Question 5**\n",
    "\n",
    "Given a number , write a program to reverse this number using stack.\n",
    "\n",
    "**Examples:**\n",
    "    Input : 365\n",
    "Output : 563\n",
    "\n",
    "Input : 6899\n",
    "Output : 9986\n",
    "\n",
    "</aside>"
   ]
  },
  {
   "cell_type": "code",
   "execution_count": 10,
   "id": "3f916040",
   "metadata": {},
   "outputs": [
    {
     "data": {
      "text/plain": [
       "9986"
      ]
     },
     "execution_count": 10,
     "metadata": {},
     "output_type": "execute_result"
    }
   ],
   "source": [
    "def reverse_number(num):\n",
    "    num_str = str(num)\n",
    "    stack = []\n",
    "\n",
    "    for char in num_str:\n",
    "        stack.append(char)\n",
    "\n",
    "    reversed_str = \"\"\n",
    "\n",
    "    while stack:\n",
    "        reversed_str += stack.pop()\n",
    "\n",
    "    reversed_num = int(reversed_str)\n",
    "\n",
    "    return reversed_num\n",
    "\n",
    "reverse_number(6899)"
   ]
  },
  {
   "cell_type": "markdown",
   "id": "b63e0639",
   "metadata": {},
   "source": [
    "<aside>\n",
    "💡 **Question 6**\n",
    "\n",
    "Given an integer k and a **[queue](https://www.geeksforgeeks.org/queue-data-structure/)** of integers, The task is to reverse the order of the first **k** elements of the queue, leaving the other elements in the same relative order.\n",
    "\n",
    "Only following standard operations are allowed on queue.\n",
    "\n",
    "- **enqueue(x) :** Add an item x to rear of queue\n",
    "- **dequeue() :** Remove an item from front of queue\n",
    "- **size() :** Returns number of elements in queue.\n",
    "- **front() :** Finds front item.\n",
    "</aside>"
   ]
  },
  {
   "cell_type": "code",
   "execution_count": 30,
   "id": "df1f4923",
   "metadata": {},
   "outputs": [],
   "source": [
    "def reverse_k_elements(queue, k):\n",
    "    stack = []\n",
    "    length = len(queue)\n",
    "    \n",
    "    for _ in range(k):\n",
    "        stack.append(queue.pop(0))\n",
    "\n",
    "    while stack:\n",
    "        queue.append(stack.pop())\n",
    "    \n",
    "    for _ in range(length - k):\n",
    "        queue.append(queue.pop(0))\n",
    "\n",
    "    return queue\n"
   ]
  },
  {
   "cell_type": "code",
   "execution_count": 31,
   "id": "da6bff6b",
   "metadata": {},
   "outputs": [
    {
     "name": "stdout",
     "output_type": "stream",
     "text": [
      "[5, 4, 3, 2, 1, 6, 7, 8, 9]\n"
     ]
    }
   ],
   "source": [
    "queue = [1, 2, 3, 4, 5, 6, 7, 8, 9]\n",
    "k = 5\n",
    "result = reverse_k_elements(queue, k)\n",
    "print(result)"
   ]
  },
  {
   "cell_type": "markdown",
   "id": "3a1ba1f2",
   "metadata": {},
   "source": [
    "<aside>\n",
    "💡 **Question 7**\n",
    "\n",
    "Given a sequence of n strings, the task is to check if any two similar words come together and then destroy each other then print the number of words left in the sequence after this pairwise destruction.\n",
    "\n",
    "**Examples:**\n",
    "\n",
    "Input : ab aa aa bcd ab\n",
    "\n",
    "Output : 3\n",
    "\n",
    "*As aa, aa destroys each other so,*\n",
    "\n",
    "*ab bcd ab is the new sequence.*\n",
    "\n",
    "Input :  tom jerry jerry tom\n",
    "\n",
    "Output : 0\n",
    "\n",
    "*As first both jerry will destroy each other.*\n",
    "\n",
    "*Then sequence will be tom, tom they will also destroy*\n",
    "\n",
    "*each other. So, the final sequence doesn’t contain any*\n",
    "\n",
    "*word.*\n",
    "\n",
    "</aside>\n",
    "\n",
    "<aside>\n",
    "💡\n",
    "\n",
    "</aside>"
   ]
  },
  {
   "cell_type": "code",
   "execution_count": 32,
   "id": "6851c284",
   "metadata": {},
   "outputs": [
    {
     "name": "stdout",
     "output_type": "stream",
     "text": [
      "3\n",
      "0\n"
     ]
    }
   ],
   "source": [
    "def count_remaining_words(sequence):\n",
    "    words = sequence.split()\n",
    "    stack = []\n",
    "\n",
    "    for word in words:\n",
    "        if stack and word == stack[-1]:\n",
    "            stack.pop()\n",
    "        else:\n",
    "            stack.append(word)\n",
    "\n",
    "    return len(stack)\n",
    "\n",
    "sequence1 = \"ab aa aa bcd ab\"\n",
    "result1 = count_remaining_words(sequence1)\n",
    "print(result1)  \n",
    "sequence2 = \"tom jerry jerry tom\"\n",
    "result2 = count_remaining_words(sequence2)\n",
    "print(result2) \n"
   ]
  },
  {
   "cell_type": "markdown",
   "id": "ca87e61a",
   "metadata": {},
   "source": [
    "<aside>\n",
    "💡 **Question 8**\n",
    "\n",
    "Given an array of integers, the task is to find the maximum absolute difference between the nearest left and the right smaller element of every element in the array.\n",
    "\n",
    "**Note:** If there is no smaller element on right side or left side of any element then we take zero as the smaller element. For example for the leftmost element, the nearest smaller element on the left side is considered as 0. Similarly, for rightmost elements, the smaller element on the right side is considered as 0.\n",
    "\n",
    "**Examples:**\n",
    "\n",
    "```\n",
    "Input : arr[] = {2, 1, 8}\n",
    "Output : 1\n",
    "Left smaller  LS[] {0, 0, 1}\n",
    "Right smaller RS[] {1, 0, 0}\n",
    "Maximum Diff of abs(LS[i] - RS[i]) = 1\n",
    "\n",
    "Input  : arr[] = {2, 4, 8, 7, 7, 9, 3}\n",
    "Output : 4\n",
    "Left smaller   LS[] = {0, 2, 4, 4, 4, 7, 2}\n",
    "Right smaller  RS[] = {0, 3, 7, 3, 3, 3, 0}\n",
    "Maximum Diff of abs(LS[i] - RS[i]) = 7 - 3 = 4\n",
    "\n",
    "Input : arr[] = {5, 1, 9, 2, 5, 1, 7}\n",
    "Output : 1\n",
    "```\n",
    "\n",
    "</aside>"
   ]
  },
  {
   "cell_type": "code",
   "execution_count": 33,
   "id": "26f7c95f",
   "metadata": {},
   "outputs": [
    {
     "name": "stdout",
     "output_type": "stream",
     "text": [
      "1\n",
      "4\n",
      "1\n"
     ]
    }
   ],
   "source": [
    "def max_absolute_difference(arr):\n",
    "    n = len(arr)\n",
    "    LS = [0] * n\n",
    "    RS = [0] * n\n",
    "    stack = []\n",
    "\n",
    "    for i in range(n):\n",
    "        while stack and arr[i] < arr[stack[-1]]:\n",
    "            RS[stack.pop()] = arr[i]\n",
    "        stack.append(i)\n",
    "\n",
    "    stack.clear()\n",
    "\n",
    "    for i in range(n - 1, -1, -1):\n",
    "        while stack and arr[i] < arr[stack[-1]]:\n",
    "            LS[stack.pop()] = arr[i]\n",
    "        stack.append(i)\n",
    "\n",
    "    max_diff = 0\n",
    "\n",
    "    for i in range(n):\n",
    "        diff = abs(LS[i] - RS[i])\n",
    "        max_diff = max(max_diff, diff)\n",
    "\n",
    "    return max_diff\n",
    "\n",
    "arr1 = [2, 1, 8]\n",
    "result1 = max_absolute_difference(arr1)\n",
    "print(result1)  \n",
    "\n",
    "arr2 = [2, 4, 8, 7, 7, 9, 3]\n",
    "result2 = max_absolute_difference(arr2)\n",
    "print(result2)  \n",
    "\n",
    "arr3 = [5, 1, 9, 2, 5, 1, 7]\n",
    "result3 = max_absolute_difference(arr3)\n",
    "print(result3)  \n"
   ]
  },
  {
   "cell_type": "code",
   "execution_count": null,
   "id": "858722fd",
   "metadata": {},
   "outputs": [],
   "source": []
  }
 ],
 "metadata": {
  "kernelspec": {
   "display_name": "Python 3 (ipykernel)",
   "language": "python",
   "name": "python3"
  },
  "language_info": {
   "codemirror_mode": {
    "name": "ipython",
    "version": 3
   },
   "file_extension": ".py",
   "mimetype": "text/x-python",
   "name": "python",
   "nbconvert_exporter": "python",
   "pygments_lexer": "ipython3",
   "version": "3.10.9"
  }
 },
 "nbformat": 4,
 "nbformat_minor": 5
}
