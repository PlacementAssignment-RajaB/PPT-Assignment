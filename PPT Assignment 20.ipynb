{
 "cells": [
  {
   "cell_type": "markdown",
   "id": "d3adc1e4",
   "metadata": {},
   "source": [
    "<aside>\n",
    "💡 Question-1\n",
    "\n",
    "Given a binary tree, your task is to find subtree with maximum sum in tree.\n",
    "\n",
    "Examples:\n",
    "\n",
    "Input1 :       \n",
    "\n",
    "       1\n",
    "\n",
    "     /   \\\n",
    "\n",
    "   2      3\n",
    "\n",
    "  / \\    / \\\n",
    "\n",
    "4   5  6   7\n",
    "\n",
    "Output1 : 28\n",
    "\n",
    "As all the tree elements are positive, the largest subtree sum is equal to sum of all tree elements.\n",
    "\n",
    "Input2 :\n",
    "\n",
    "       1\n",
    "\n",
    "     /    \\\n",
    "\n",
    "  -2      3\n",
    "\n",
    "  / \\    /  \\\n",
    "\n",
    "4   5  -6   2\n",
    "\n",
    "Output2 : 7\n",
    "\n",
    "Subtree with largest sum is :\n",
    "\n",
    " -2\n",
    "\n",
    " / \\\n",
    "\n",
    "4   5\n",
    "\n",
    "Also, entire tree sum is also 7.\n",
    "\n",
    "</aside>\n",
    "\n",
    "<aside>\n",
    "💡\n",
    "\n",
    "</aside>"
   ]
  },
  {
   "cell_type": "code",
   "execution_count": 1,
   "id": "e69534b1",
   "metadata": {},
   "outputs": [
    {
     "name": "stdout",
     "output_type": "stream",
     "text": [
      "28\n"
     ]
    }
   ],
   "source": [
    "class TreeNode:\n",
    "    def __init__(self, val=0, left=None, right=None):\n",
    "        self.val = val\n",
    "        self.left = left\n",
    "        self.right = right\n",
    "\n",
    "def maxSubtreeSum(root):\n",
    "    def dfs(node):\n",
    "        nonlocal max_sum\n",
    "        if not node:\n",
    "            return 0\n",
    "        left_sum = dfs(node.left)\n",
    "        right_sum = dfs(node.right)\n",
    "        subtree_sum = left_sum + right_sum + node.val\n",
    "        max_sum = max(max_sum, subtree_sum)\n",
    "        return subtree_sum\n",
    "\n",
    "    max_sum = float('-inf')\n",
    "    dfs(root)\n",
    "    return max_sum\n",
    "\n",
    "# Test case\n",
    "root = TreeNode(1)\n",
    "root.left = TreeNode(2)\n",
    "root.right = TreeNode(3)\n",
    "root.left.left = TreeNode(4)\n",
    "root.left.right = TreeNode(5)\n",
    "root.right.left = TreeNode(6)\n",
    "root.right.right = TreeNode(7)\n",
    "\n",
    "result = maxSubtreeSum(root)\n",
    "print(result)  \n"
   ]
  },
  {
   "cell_type": "markdown",
   "id": "9e3623a3",
   "metadata": {},
   "source": [
    "<aside>\n",
    "💡 Question-2\n",
    "\n",
    "Construct the BST (Binary Search Tree) from its given level order traversal.\n",
    "\n",
    "Example:\n",
    "\n",
    "Input: arr[] = {7, 4, 12, 3, 6, 8, 1, 5, 10}\n",
    "\n",
    "Output: BST:\n",
    "\n",
    "</aside>"
   ]
  },
  {
   "cell_type": "code",
   "execution_count": 2,
   "id": "e0636f02",
   "metadata": {},
   "outputs": [],
   "source": [
    "class TreeNode:\n",
    "    def __init__(self, val=0, left=None, right=None):\n",
    "        self.val = val\n",
    "        self.left = left\n",
    "        self.right = right\n",
    "\n",
    "def constructBST(level_order):\n",
    "    if not level_order:\n",
    "        return None\n",
    "\n",
    "    root = TreeNode(level_order[0])\n",
    "    queue = [root]\n",
    "    i = 1\n",
    "\n",
    "    while queue and i < len(level_order):\n",
    "        node = queue.pop(0)\n",
    "\n",
    "        if i < len(level_order) and level_order[i] < node.val:\n",
    "            node.left = TreeNode(level_order[i])\n",
    "            queue.append(node.left)\n",
    "            i += 1\n",
    "\n",
    "        if i < len(level_order) and level_order[i] > node.val:\n",
    "            node.right = TreeNode(level_order[i])\n",
    "            queue.append(node.right)\n",
    "            i += 1\n",
    "\n",
    "    return root\n",
    "\n",
    "level_order = [7, 4, 12, 3, 6, 8, 1, 5, 10]\n",
    "root = constructBST(level_order)\n"
   ]
  },
  {
   "cell_type": "markdown",
   "id": "49739808",
   "metadata": {},
   "source": [
    "<aside>\n",
    "💡 Question-3\n",
    "\n",
    "Given an array of size n. The problem is to check whether the given array can represent the level order traversal of a Binary Search Tree or not.\n",
    "\n",
    "Examples:\n",
    "\n",
    "Input1 : arr[] = {7, 4, 12, 3, 6, 8, 1, 5, 10}\n",
    "\n",
    "Output1 : Yes\n",
    "\n",
    "For the given arr[], the Binary Search Tree is:\n",
    "\n",
    "</aside>"
   ]
  },
  {
   "cell_type": "code",
   "execution_count": 3,
   "id": "a3781ebe",
   "metadata": {},
   "outputs": [
    {
     "name": "stdout",
     "output_type": "stream",
     "text": [
      "False\n"
     ]
    }
   ],
   "source": [
    "def isLevelOrderBST(level_order):\n",
    "    n = len(level_order)\n",
    "    if n == 0 or n == 1:\n",
    "        return True\n",
    "\n",
    "    i = 0\n",
    "    while i < n - 1 and level_order[i] < level_order[i + 1]:\n",
    "        i += 1\n",
    "\n",
    "    j = i + 1\n",
    "    while j < n - 1 and level_order[j] > level_order[j + 1]:\n",
    "        j += 1\n",
    "\n",
    "    return j == n - 1\n",
    "\n",
    "level_order = [7, 4, 12, 3, 6, 8, 1, 5, 10]\n",
    "result = isLevelOrderBST(level_order)\n",
    "print(result)  \n"
   ]
  },
  {
   "cell_type": "code",
   "execution_count": null,
   "id": "8cae3e2c",
   "metadata": {},
   "outputs": [],
   "source": []
  }
 ],
 "metadata": {
  "kernelspec": {
   "display_name": "Python 3 (ipykernel)",
   "language": "python",
   "name": "python3"
  },
  "language_info": {
   "codemirror_mode": {
    "name": "ipython",
    "version": 3
   },
   "file_extension": ".py",
   "mimetype": "text/x-python",
   "name": "python",
   "nbconvert_exporter": "python",
   "pygments_lexer": "ipython3",
   "version": "3.10.9"
  }
 },
 "nbformat": 4,
 "nbformat_minor": 5
}
