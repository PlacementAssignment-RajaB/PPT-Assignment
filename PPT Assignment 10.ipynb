{
 "cells": [
  {
   "cell_type": "markdown",
   "id": "f5bbc980",
   "metadata": {},
   "source": [
    "<aside>\n",
    "💡 **Question 1**\n",
    "\n",
    "Given an integer `n`, return *`true` if it is a power of three. Otherwise, return `false`*.\n",
    "\n",
    "An integer `n` is a power of three, if there exists an integer `x` such that `n == 3x`.\n",
    "\n",
    "**Example 1:**\n",
    "\n",
    "```\n",
    "Input: n = 27\n",
    "Output: true\n",
    "Explanation: 27 = 33\n",
    "```\n",
    "\n",
    "**Example 2:**\n",
    "\n",
    "```\n",
    "Input: n = 0\n",
    "Output: false\n",
    "Explanation: There is no x where 3x = 0.\n",
    "\n",
    "```\n",
    "\n",
    "**Example 3:**\n",
    "Input: n = -1\n",
    "Output: false\n",
    "Explanation: There is no x where 3x = (-1).\n",
    "</aside>"
   ]
  },
  {
   "cell_type": "code",
   "execution_count": 8,
   "id": "33c9608d",
   "metadata": {},
   "outputs": [
    {
     "data": {
      "text/plain": [
       "True"
      ]
     },
     "execution_count": 8,
     "metadata": {},
     "output_type": "execute_result"
    }
   ],
   "source": [
    "def power_of_3(n):\n",
    "    if n == 1:\n",
    "        return True\n",
    "    if n %3 == 0:\n",
    "        return power_of_3(n//3)\n",
    "    return False\n",
    "\n",
    "power_of_3(27)"
   ]
  },
  {
   "cell_type": "markdown",
   "id": "e9ac2e5c",
   "metadata": {},
   "source": [
    "<aside>\n",
    "💡 **Question 2**\n",
    "\n",
    "You have a list `arr` of all integers in the range `[1, n]` sorted in a strictly increasing order. Apply the following algorithm on `arr`:\n",
    "\n",
    "- Starting from left to right, remove the first number and every other number afterward until you reach the end of the list.\n",
    "- Repeat the previous step again, but this time from right to left, remove the rightmost number and every other number from the remaining numbers.\n",
    "- Keep repeating the steps again, alternating left to right and right to left, until a single number remains.\n",
    "\n",
    "Given the integer `n`, return *the last number that remains in* `arr`.\n",
    "\n",
    "**Example 1:**\n",
    "\n",
    "```\n",
    "Input: n = 9\n",
    "Output: 6\n",
    "Explanation:\n",
    "arr = [1, 2,3, 4,5, 6,7, 8,9]\n",
    "arr = [2,4, 6,8]\n",
    "arr = [2, 6]\n",
    "arr = [6]\n",
    "\n",
    "```\n",
    "\n",
    "**Example 2:**\n",
    "Input: n = 1\n",
    "    \n",
    "Output: 1\n",
    "</aside>"
   ]
  },
  {
   "cell_type": "code",
   "execution_count": 18,
   "id": "d13d450a",
   "metadata": {},
   "outputs": [
    {
     "data": {
      "text/plain": [
       "6"
      ]
     },
     "execution_count": 18,
     "metadata": {},
     "output_type": "execute_result"
    }
   ],
   "source": [
    "def algoimple(arr):\n",
    "    arr1 = [i for i in arr]\n",
    "    if len(arr) == 1:\n",
    "        return arr1[0]\n",
    "    \n",
    "    left,right = 0,len(arr)-1\n",
    "    \n",
    "    while left<=right:\n",
    "        \n",
    "        arr1.remove(arr[left])\n",
    "        \n",
    "        left+=2\n",
    "        \n",
    "    return algoimple(arr1[::-1])\n",
    "\n",
    "def create_array(n):\n",
    "    arr = [i for i in range(1,n+1)]\n",
    "    \n",
    "    return algoimple(arr)\n",
    "\n",
    "create_array(9)"
   ]
  },
  {
   "cell_type": "markdown",
   "id": "8c0170ca",
   "metadata": {},
   "source": [
    "<aside>\n",
    "💡 **Question 3**\n",
    "\n",
    "****Given a set represented as a string, write a recursive code to print all subsets of it. The subsets can be printed in any order.\n",
    "\n",
    "**Example 1:**\n",
    "\n",
    "Input :  set = “abc”\n",
    "\n",
    "Output : { “”, “a”, “b”, “c”, “ab”, “ac”, “bc”, “abc”}\n",
    "\n",
    "**Example 2:**\n",
    "\n",
    "Input : set = “abcd”\n",
    "\n",
    "Output : { “”, “a” ,”ab” ,”abc” ,”abcd”, “abd” ,”ac” ,”acd”, “ad” ,”b”, “bc” ,”bcd” ,”bd” ,”c” ,”cd” ,”d” }\n",
    "\n",
    "</aside>"
   ]
  },
  {
   "cell_type": "code",
   "execution_count": 21,
   "id": "640140d9",
   "metadata": {},
   "outputs": [
    {
     "name": "stdout",
     "output_type": "stream",
     "text": [
      "abcd\n",
      "abc\n",
      "abd\n",
      "ab\n",
      "acd\n",
      "ac\n",
      "ad\n",
      "a\n",
      "bcd\n",
      "bc\n",
      "bd\n",
      "b\n",
      "cd\n",
      "c\n",
      "d\n",
      "\n"
     ]
    }
   ],
   "source": [
    "def print_subsets(string, subset=\"\"):\n",
    "    if len(string) == 0:\n",
    "        print(subset)\n",
    "    else:\n",
    "        print_subsets(string[1:], subset + string[0])\n",
    "\n",
    "        print_subsets(string[1:], subset)\n",
    "\n",
    "string = \"abcd\"\n",
    "print_subsets(string)\n"
   ]
  },
  {
   "cell_type": "markdown",
   "id": "b3c35421",
   "metadata": {},
   "source": [
    "<aside>\n",
    "💡 **Question 4**\n",
    "\n",
    "Given a string calculate length of the string using recursion.\n",
    "\n",
    "**Examples:**\n",
    "    \n",
    "    Input : str = \"abcd\"\n",
    "    \n",
    "Output :4\n",
    "\n",
    "Input : str = \"GEEKSFORGEEKS\"\n",
    "    \n",
    "Output :13\n",
    "\n",
    "</aside>"
   ]
  },
  {
   "cell_type": "code",
   "execution_count": 22,
   "id": "5c969723",
   "metadata": {},
   "outputs": [
    {
     "data": {
      "text/plain": [
       "4"
      ]
     },
     "execution_count": 22,
     "metadata": {},
     "output_type": "execute_result"
    }
   ],
   "source": [
    "def length(string):\n",
    "    if string == '':\n",
    "        return 0\n",
    "    return length(string[1:]) + 1\n",
    "\n",
    "length('abcd')"
   ]
  },
  {
   "cell_type": "markdown",
   "id": "0ef32d13",
   "metadata": {},
   "source": [
    "<aside>\n",
    "💡 **Question 5**\n",
    "\n",
    "We are given a string S, we need to find count of all contiguous substrings starting and ending with same character.\n",
    "\n",
    "**Examples :**\n",
    "    Input  : S = \"abcab\"\n",
    "Output : 7\n",
    "There are 15 substrings of \"abcab\"\n",
    "a, ab, abc, abca, abcab, b, bc, bca\n",
    "bcab, c, ca, cab, a, ab, b\n",
    "Out of the above substrings, there\n",
    "are 7 substrings : a, abca, b, bcab,\n",
    "c, a and b.\n",
    "\n",
    "Input  : S = \"aba\"\n",
    "Output : 4\n",
    "The substrings are a, b, a and aba\n",
    "\n",
    "</aside>"
   ]
  },
  {
   "cell_type": "code",
   "execution_count": 31,
   "id": "df510b27",
   "metadata": {},
   "outputs": [
    {
     "name": "stdout",
     "output_type": "stream",
     "text": [
      "7\n"
     ]
    }
   ],
   "source": [
    "def count_substrings_recursive(s):\n",
    "    if len(s) <= 1:\n",
    "        return len(s)\n",
    "\n",
    "    count = 0\n",
    "    n = len(s)\n",
    "\n",
    "    if s[0] == s[n - 1]:\n",
    "        count += 1\n",
    "\n",
    "    count += count_substrings_recursive(s[1:n-1])\n",
    "\n",
    "    return count\n",
    "\n",
    "string = \"abcab\"\n",
    "result = count_substrings_recursive(string)\n",
    "print(result)  \n",
    "\n"
   ]
  },
  {
   "cell_type": "markdown",
   "id": "a989d1f9",
   "metadata": {},
   "source": [
    "<aside>\n",
    "💡 **Question 6**\n",
    "\n",
    "The [tower of Hanoi](https://en.wikipedia.org/wiki/Tower_of_Hanoi) is a famous puzzle where we have three rods and **N** disks. The objective of the puzzle is to move the entire stack to another rod. You are given the number of discs **N**. Initially, these discs are in the rod 1. You need to print all the steps of discs movement so that all the discs reach the 3rd rod. Also, you need to find the total moves.**Note:** The discs are arranged such that the **top disc is numbered 1** and the **bottom-most disc is numbered N**. Also, all the discs have **different sizes** and a bigger disc **cannot** be put on the top of a smaller disc. Refer the provided link to get a better clarity about the puzzle.\n",
    "\n",
    "**Example 1:**\n",
    "    \n",
    "    Input:\n",
    "N = 2\n",
    "Output:\n",
    "move disk 1 from rod 1 to rod 2\n",
    "move disk 2 from rod 1 to rod 3\n",
    "move disk 1 from rod 2 to rod 3\n",
    "3\n",
    "Explanation:For N=2 , steps will be\n",
    "as follows in the example and total\n",
    "3 steps will be taken.\n",
    "    \n",
    "**Example 2**    \n",
    "    Input:\n",
    "N = 3\n",
    "Output:\n",
    "move disk 1 from rod 1 to rod 3\n",
    "move disk 2 from rod 1 to rod 2\n",
    "move disk 1 from rod 3 to rod 2\n",
    "move disk 3 from rod 1 to rod 3\n",
    "move disk 1 from rod 2 to rod 1\n",
    "move disk 2 from rod 2 to rod 3\n",
    "move disk 1 from rod 1 to rod 3\n",
    "7\n",
    "Explanation:For N=3 , steps will be\n",
    "as follows in the example and total\n",
    "7 steps will be taken.\n",
    "\n",
    "</aside>"
   ]
  },
  {
   "cell_type": "markdown",
   "id": "bdc5ef31",
   "metadata": {},
   "source": [
    "<aside>\n",
    "💡 **Question 7**\n",
    "\n",
    "Given a string **str**, the task is to print all the permutations of **str**. A **permutation** is an arrangement of all or part of a set of objects, with regard to the order of the arrangement. For instance, the words ‘bat’ and ‘tab’ represents two distinct permutation (or arrangements) of a similar three letter word.\n",
    "\n",
    "**Examples:**\n",
    "\n",
    "> Input: str = “cd”\n",
    "> \n",
    "> \n",
    "> **Output:** cd dc\n",
    "> \n",
    "> **Input:** str = “abb”\n",
    "> \n",
    "> **Output:** abb abb bab bba bab bba\n",
    "> \n",
    "</aside>"
   ]
  },
  {
   "cell_type": "code",
   "execution_count": 34,
   "id": "a220601b",
   "metadata": {},
   "outputs": [
    {
     "name": "stdout",
     "output_type": "stream",
     "text": [
      "cd\n",
      "dc\n"
     ]
    }
   ],
   "source": [
    "def permute(s, l, r):\n",
    "    if l == r:\n",
    "        print(''.join(s))\n",
    "    else:\n",
    "        for i in range(l, r + 1):\n",
    "            s[l], s[i] = s[i], s[l]  \n",
    "            permute(s, l + 1, r)   \n",
    "            s[l], s[i] = s[i], s[l]  \n",
    "\n",
    "def print_permutations(s):\n",
    "    n = len(s)\n",
    "    if n == 0:\n",
    "        print(\"Input string is empty.\")\n",
    "    else:\n",
    "        permute(list(s), 0, n - 1)\n",
    "\n",
    "string = \"cd\"\n",
    "print_permutations(string)\n"
   ]
  },
  {
   "cell_type": "markdown",
   "id": "e2c59c1e",
   "metadata": {},
   "source": [
    "<aside>\n",
    "💡 **Question 8**\n",
    "\n",
    "Given a string, count total number of consonants in it. A consonant is an English alphabet character that is not vowel (a, e, i, o and u). Examples of constants are b, c, d, f, and g.\n",
    "\n",
    "**Examples :**\n",
    "Input : abc de\n",
    "Output : 3\n",
    "There are three consonants b, c and d.\n",
    "\n",
    "Input : geeksforgeeks portal\n",
    "Output : 12\n",
    "    \n",
    "    \n",
    "</aside>"
   ]
  },
  {
   "cell_type": "code",
   "execution_count": 42,
   "id": "0934423d",
   "metadata": {},
   "outputs": [
    {
     "data": {
      "text/plain": [
       "12"
      ]
     },
     "execution_count": 42,
     "metadata": {},
     "output_type": "execute_result"
    }
   ],
   "source": [
    "vowels = ['a','e','i','o','u',' ']\n",
    "def count_consonant(string):\n",
    "    if len(string) == 0:\n",
    "        return 0 \n",
    "    \n",
    "    if string[0] in vowels:\n",
    "        \n",
    "        return  count_consonant(string[1:])\n",
    "    else:\n",
    "        \n",
    "        return count_consonant(string[1:]) + 1\n",
    "    \n",
    "count_consonant('geeksforgeeks portal')"
   ]
  },
  {
   "cell_type": "code",
   "execution_count": null,
   "id": "fd241a01",
   "metadata": {},
   "outputs": [],
   "source": []
  }
 ],
 "metadata": {
  "kernelspec": {
   "display_name": "Python 3 (ipykernel)",
   "language": "python",
   "name": "python3"
  },
  "language_info": {
   "codemirror_mode": {
    "name": "ipython",
    "version": 3
   },
   "file_extension": ".py",
   "mimetype": "text/x-python",
   "name": "python",
   "nbconvert_exporter": "python",
   "pygments_lexer": "ipython3",
   "version": "3.10.9"
  }
 },
 "nbformat": 4,
 "nbformat_minor": 5
}
