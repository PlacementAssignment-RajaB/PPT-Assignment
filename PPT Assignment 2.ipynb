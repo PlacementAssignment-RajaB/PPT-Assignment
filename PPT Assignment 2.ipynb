{
 "cells": [
  {
   "cell_type": "raw",
   "id": "4e4986bb",
   "metadata": {},
   "source": [
    "\n",
    "💡 **Question 1**\n",
    "Given an integer array nums of 2n integers, group these integers into n pairs (a1, b1), (a2, b2),..., (an, bn) such that the sum of min(ai, bi) for all i is maximized. Return the maximized sum.\n",
    "\n",
    "**Example 1:**\n",
    "Input: nums = [1,4,3,2]\n",
    "Output: 4\n",
    "\n",
    "**Explanation:** All possible pairings (ignoring the ordering of elements) are:\n",
    "\n",
    "1. (1, 4), (2, 3) -> min(1, 4) + min(2, 3) = 1 + 2 = 3\n",
    "2. (1, 3), (2, 4) -> min(1, 3) + min(2, 4) = 1 + 2 = 3\n",
    "3. (1, 2), (3, 4) -> min(1, 2) + min(3, 4) = 1 + 3 = 4\n",
    "So the maximum possible sum is 4\n"
   ]
  },
  {
   "cell_type": "code",
   "execution_count": 3,
   "id": "ad4b8ba6",
   "metadata": {},
   "outputs": [
    {
     "data": {
      "text/plain": [
       "9"
      ]
     },
     "execution_count": 3,
     "metadata": {},
     "output_type": "execute_result"
    }
   ],
   "source": [
    "nums = [1,4,3,6,5,2]\n",
    "\n",
    "def min_max(nums):\n",
    "    for i in range(len(nums)):\n",
    "        for j in range(i,len(nums)):\n",
    "            if nums[i]>nums[j]:\n",
    "                nums[i],nums[j] = nums[j],nums[i]\n",
    "    min_max = 0\n",
    "    for k in range(1,len(nums),2):\n",
    "        min_max+=k\n",
    "    return min_max\n",
    "\n",
    "\n",
    "min_max(nums)"
   ]
  },
  {
   "cell_type": "raw",
   "id": "bb64db63",
   "metadata": {},
   "source": [
    "Question 2\n",
    "Alice has n candies, where the ith candy is of type candyType[i]. Alice noticed that she started to gain weight, so she visited a doctor. \n",
    "\n",
    "The doctor advised Alice to only eat n / 2 of the candies she has (n is always even). Alice likes her candies very much, and she wants to eat the maximum number of different types of candies while still following the doctor's advice. \n",
    "\n",
    "Given the integer array candyType of length n, return the maximum number of different types of candies she can eat if she only eats n / 2 of them.\n",
    "\n",
    "Example 1:\n",
    "Input: candyType = [1,1,2,2,3,3]\n",
    "Output: 3\n",
    "\n",
    "Explanation: Alice can only eat 6 / 2 = 3 candies. Since there are only 3 types, she can eat one of each type."
   ]
  },
  {
   "cell_type": "code",
   "execution_count": 6,
   "id": "38e59e59",
   "metadata": {},
   "outputs": [
    {
     "data": {
      "text/plain": [
       "3"
      ]
     },
     "execution_count": 6,
     "metadata": {},
     "output_type": "execute_result"
    }
   ],
   "source": [
    "def candy(candy_type):\n",
    "    candy = []\n",
    "    for i in candy_type:\n",
    "        if i not in candy:\n",
    "            candy.append(i)\n",
    "    if len(candy) <= len(candy_type)//2:\n",
    "        return len(candy)\n",
    "    else:\n",
    "        return len(candy_type)/2\n",
    "    \n",
    "    \n",
    "candyType = [1,1,2,2,3,3]\n",
    "candy(candyType)"
   ]
  },
  {
   "cell_type": "raw",
   "id": "08e2703f",
   "metadata": {},
   "source": [
    "Question 3\n",
    "We define a harmonious array as an array where the difference between its maximum value\n",
    "and its minimum value is exactly 1.\n",
    "\n",
    "Given an integer array nums, return the length of its longest harmonious subsequence\n",
    "among all its possible subsequences.\n",
    "\n",
    "A subsequence of an array is a sequence that can be derived from the array by deleting some or no elements without changing the order of the remaining elements.\n",
    "\n",
    "Example 1:\n",
    "Input: nums = [1,3,2,2,5,2,3,7]\n",
    "Output: 5\n",
    "\n",
    "Explanation: The longest harmonious subsequence is [3,2,2,2,3]."
   ]
  },
  {
   "cell_type": "code",
   "execution_count": 26,
   "id": "37b03778",
   "metadata": {},
   "outputs": [
    {
     "data": {
      "text/plain": [
       "3"
      ]
     },
     "execution_count": 26,
     "metadata": {},
     "output_type": "execute_result"
    }
   ],
   "source": [
    "def harmonious(nums):\n",
    "    dct = {}\n",
    "    max_len = 0\n",
    "    for i in (nums):\n",
    "        if i not in dct:\n",
    "            dct[i] = 1\n",
    "        else:\n",
    "            dct[i]+=1\n",
    "    for i in dct:\n",
    "        if i+1 in dct:\n",
    "            max_len = max(max_len,dct[i]+dct[i+1])\n",
    "    return max_len\n",
    "\n",
    "nums = [1, 2, 3, 3]\n",
    "harmonious(nums)"
   ]
  },
  {
   "cell_type": "raw",
   "id": "b284586d",
   "metadata": {},
   "source": [
    "Question 4\n",
    "You have a long flowerbed in which some of the plots are planted, and some are not.\n",
    "However, flowers cannot be planted in adjacent plots.\n",
    "Given an integer array flowerbed containing 0's and 1's, where 0 means empty and 1 means not empty, and an integer n, return true if n new flowers can be planted in the flowerbed without violating the no-adjacent-flowers rule and false otherwise.\n",
    "\n",
    "Example 1:\n",
    "Input: flowerbed = [1,0,0,0,1], n = 1\n",
    "Output: true"
   ]
  },
  {
   "cell_type": "code",
   "execution_count": 42,
   "id": "651051b6",
   "metadata": {},
   "outputs": [
    {
     "data": {
      "text/plain": [
       "True"
      ]
     },
     "execution_count": 42,
     "metadata": {},
     "output_type": "execute_result"
    }
   ],
   "source": [
    "def flower_plots(arr,n):\n",
    "    even_odd = 0\n",
    "    flower = 0\n",
    "    for i in range(len(arr)):\n",
    "        if arr[i] == 1:\n",
    "            even_odd += i%2\n",
    "            break\n",
    "    for i in range(even_odd,len(arr),2):\n",
    "        if arr[i] == 0:\n",
    "            flower+=1\n",
    "            \n",
    "    if flower >= n:\n",
    "        return True\n",
    "    else:\n",
    "        return False\n",
    "    \n",
    "flowerbed = [1,0,0,0,0,0,1]\n",
    "n = 2\n",
    "flower_plots(flowerbed,n)"
   ]
  },
  {
   "cell_type": "raw",
   "id": "55ee06d2",
   "metadata": {},
   "source": [
    "Question 5\n",
    "Given an integer array nums, find three numbers whose product is maximum and return the maximum product.\n",
    "\n",
    "Example 1:\n",
    "Input: nums = [1,2,3]\n",
    "Output: 6"
   ]
  },
  {
   "cell_type": "code",
   "execution_count": 48,
   "id": "e1afd786",
   "metadata": {},
   "outputs": [
    {
     "data": {
      "text/plain": [
       "60"
      ]
     },
     "execution_count": 48,
     "metadata": {},
     "output_type": "execute_result"
    }
   ],
   "source": [
    "def max_product(arr):\n",
    "    max_product = 1\n",
    "    \n",
    "    for i in range(3):\n",
    "        max_num = find_max(arr)\n",
    "        arr.remove(max_num)\n",
    "        max_product = max_product * max_num\n",
    "    \n",
    "    return max_product\n",
    "    \n",
    "    \n",
    "def find_max(arr):\n",
    "    max_num = 0\n",
    "    for i in arr:\n",
    "        if i > max_num:\n",
    "            max_num = i\n",
    "    return max_num\n",
    "\n",
    "\n",
    "max_product([1,2,3,4,5])"
   ]
  },
  {
   "cell_type": "raw",
   "id": "1da96ada",
   "metadata": {},
   "source": [
    "Question 6\n",
    "Given an array of integers nums which is sorted in ascending order, and an integer target,\n",
    "write a function to search target in nums. If target exists, then return its index. Otherwise,\n",
    "return -1.\n",
    "\n",
    "You must write an algorithm with O(log n) runtime complexity.\n",
    "\n",
    "Input: nums = [-1,0,3,5,9,12], target = 9\n",
    "Output: 4\n",
    "\n",
    "Explanation: 9 exists in nums and its index is 4"
   ]
  },
  {
   "cell_type": "code",
   "execution_count": 50,
   "id": "02c3e4fc",
   "metadata": {},
   "outputs": [
    {
     "data": {
      "text/plain": [
       "4"
      ]
     },
     "execution_count": 50,
     "metadata": {},
     "output_type": "execute_result"
    }
   ],
   "source": [
    "nums = [-1,0,3,5,9,12]\n",
    "target = 9\n",
    "low,high = 0,len(nums)\n",
    "\n",
    "def binarySearch(nums,low,high,target):\n",
    "    mid = (low + high)//2\n",
    "    \n",
    "    \n",
    "    if nums[mid]==target:\n",
    "        return mid\n",
    "    \n",
    "    elif nums[mid]< target:\n",
    "        return binarySearch(nums,mid,high,target)\n",
    "    else:\n",
    "        return binarySearch(nums,low,mid,target)\n",
    "    \n",
    "    \n",
    "binarySearch(nums,low,high,target)"
   ]
  },
  {
   "cell_type": "raw",
   "id": "7cb444d8",
   "metadata": {},
   "source": [
    "Question 7\n",
    "An array is monotonic if it is either monotone increasing or monotone decreasing.\n",
    "\n",
    "An array nums is monotone increasing if for all i <= j, nums[i] <= nums[j]. An array nums is\n",
    "monotone decreasing if for all i <= j, nums[i] >= nums[j].\n",
    "\n",
    "Given an integer array nums, return true if the given array is monotonic, or false otherwise.\n",
    "\n",
    "Example 1:\n",
    "Input: nums = [1,2,2,3]\n",
    "Output: true"
   ]
  },
  {
   "cell_type": "code",
   "execution_count": 61,
   "id": "ab7f419d",
   "metadata": {},
   "outputs": [
    {
     "data": {
      "text/plain": [
       "True"
      ]
     },
     "execution_count": 61,
     "metadata": {},
     "output_type": "execute_result"
    }
   ],
   "source": [
    "def monotonic(arr):\n",
    "    if arr[len(arr)-1] > arr[0]:\n",
    "        for i in range(len(arr)-1):\n",
    "            if arr[i] < arr[i+1]:\n",
    "                pass\n",
    "            else:\n",
    "                return False\n",
    "            \n",
    "    elif arr[0] > arr[len(arr)-1]:\n",
    "        for i in range(len(arr)-1):\n",
    "            if arr[i] > arr[i+1]:\n",
    "                pass\n",
    "            else:\n",
    "                return False\n",
    "    elif len(arr) == 1:\n",
    "        return True\n",
    "    \n",
    "    else:\n",
    "        return False\n",
    "\n",
    "    return True\n",
    "\n",
    "\n",
    "monotonic([10,2,1])"
   ]
  },
  {
   "cell_type": "raw",
   "id": "503f04a0",
   "metadata": {},
   "source": [
    "Question 8\n",
    "You are given an integer array nums and an integer k.\n",
    "\n",
    "In one operation, you can choose any index i where 0 <= i < nums.length and change nums[i] to nums[i] + x where x is an integer from the range [-k, k]. You can apply this operation at most once for each index i.\n",
    "\n",
    "The score of nums is the difference between the maximum and minimum elements in nums.\n",
    "\n",
    "Return the minimum score of nums after applying the mentioned operation at most once for each index in it.\n",
    "\n",
    "Example 1:\n",
    "Input: nums = [1], k = 0\n",
    "Output: 0\n",
    "\n",
    "Explanation: The score is max(nums) - min(nums) = 1 - 1 = 0."
   ]
  },
  {
   "cell_type": "code",
   "execution_count": 68,
   "id": "61464b5f",
   "metadata": {},
   "outputs": [
    {
     "data": {
      "text/plain": [
       "1"
      ]
     },
     "execution_count": 68,
     "metadata": {},
     "output_type": "execute_result"
    }
   ],
   "source": [
    "def minScore(nums, k):\n",
    "    maximum = max(nums)\n",
    "    minimum = min(nums)\n",
    "\n",
    "    if maximum - minimum <= 2 * k:\n",
    "        return 0\n",
    "    else:\n",
    "        return maximum - minimum - 2 * k\n",
    "    \n",
    "    \n",
    "nums = [1,2,3,4]\n",
    "k = 1\n",
    "minScore(nums,k)"
   ]
  },
  {
   "cell_type": "code",
   "execution_count": null,
   "id": "9a4e7d05",
   "metadata": {},
   "outputs": [],
   "source": []
  }
 ],
 "metadata": {
  "kernelspec": {
   "display_name": "Python 3 (ipykernel)",
   "language": "python",
   "name": "python3"
  },
  "language_info": {
   "codemirror_mode": {
    "name": "ipython",
    "version": 3
   },
   "file_extension": ".py",
   "mimetype": "text/x-python",
   "name": "python",
   "nbconvert_exporter": "python",
   "pygments_lexer": "ipython3",
   "version": "3.10.9"
  }
 },
 "nbformat": 4,
 "nbformat_minor": 5
}
