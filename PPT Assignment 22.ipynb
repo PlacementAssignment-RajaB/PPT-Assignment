{
 "cells": [
  {
   "cell_type": "markdown",
   "id": "18d4b0e6",
   "metadata": {},
   "source": [
    "<aside>\n",
    "💡 Question-1:\n",
    "\n",
    "Given a Binary Tree (Bt), convert it to a Doubly Linked List(DLL). The left and right pointers in nodes are to be used as previous and next pointers respectively in converted DLL. The order of nodes in DLL must be the same as in Inorder for the given Binary Tree. The first node of Inorder traversal (leftmost node in BT) must be the head node of the DLL.\n",
    "\n",
    "</aside>"
   ]
  },
  {
   "cell_type": "code",
   "execution_count": 4,
   "id": "1fb0d4b5",
   "metadata": {},
   "outputs": [
    {
     "name": "stdout",
     "output_type": "stream",
     "text": [
      "1 2 3 4 5 "
     ]
    }
   ],
   "source": [
    "class TreeNode:\n",
    "    def __init__(self, val=0, left=None, right=None):\n",
    "        self.val = val\n",
    "        self.left = left\n",
    "        self.right = right\n",
    "\n",
    "def BTtoDLL(root):\n",
    "    if not root:\n",
    "        return None\n",
    "\n",
    "    def inorder(node):\n",
    "        nonlocal prev, head\n",
    "\n",
    "        if node:\n",
    "            inorder(node.left)\n",
    "\n",
    "            if prev:\n",
    "                prev.right = node\n",
    "                node.left = prev\n",
    "            else:\n",
    "                head = node\n",
    "\n",
    "            prev = node\n",
    "\n",
    "            inorder(node.right)\n",
    "\n",
    "    prev = None\n",
    "    head = None\n",
    "    inorder(root)\n",
    "\n",
    "    return head\n",
    "\n",
    "# Test case\n",
    "root = TreeNode(4)\n",
    "root.left = TreeNode(2)\n",
    "root.right = TreeNode(5)\n",
    "root.left.left = TreeNode(1)\n",
    "root.left.right = TreeNode(3)\n",
    "\n",
    "dll_head = BTtoDLL(root)\n",
    "\n",
    "current = dll_head\n",
    "while current:\n",
    "    print(current.val, end=\" \")\n",
    "    current = current.right\n",
    "\n"
   ]
  },
  {
   "cell_type": "markdown",
   "id": "b57cf9c7",
   "metadata": {},
   "source": [
    "<aside>\n",
    "💡 Question-2\n",
    "\n",
    "A Given a binary tree, the task is to flip the binary tree towards the right direction that is clockwise. See the below examples to see the transformation.\n",
    "\n",
    "In the flip operation, the leftmost node becomes the root of the flipped tree and its parent becomes its right child and the right sibling becomes its left child and the same should be done for all left most nodes recursively.\n",
    "\n",
    "</aside>"
   ]
  },
  {
   "cell_type": "code",
   "execution_count": 9,
   "id": "c7e4eb9e",
   "metadata": {},
   "outputs": [],
   "source": [
    "def flipBinaryTree(root):\n",
    "    if root is None:\n",
    "        return None\n",
    "    \n",
    "    if root.left is None and root.right is None:\n",
    "        return root\n",
    "    \n",
    "    flippedRoot = flipBinaryTree(root.left)\n",
    "    root.left.left = root.right\n",
    "    root.left.right = root\n",
    "    root.left = None\n",
    "    root.right = None\n",
    "    \n",
    "    return flippedRoot\n",
    "\n",
    "root = TreeNode(1)\n",
    "root.left = TreeNode(2)\n",
    "root.right = TreeNode(3)\n",
    "root.left.left = TreeNode(4)\n",
    "root.left.right = TreeNode(5)\n",
    "root.right.right = TreeNode(6)\n",
    "\n",
    "flippedRoot = flipBinaryTree(root)\n"
   ]
  },
  {
   "cell_type": "markdown",
   "id": "673c0648",
   "metadata": {},
   "source": [
    "<aside>\n",
    "💡 Question-3:\n",
    "\n",
    "Given a binary tree, print all its root-to-leaf paths without using recursion. For example, consider the following Binary Tree.\n",
    "\n",
    "Input:\n",
    "\n",
    "        6\n",
    "     /    \\\n",
    "    3      5\n",
    "  /   \\     \\\n",
    " 2     5     4\n",
    "     /   \\\n",
    "    7     4\n",
    "\n",
    "Output:\n",
    "\n",
    "There are 4 leaves, hence 4 root to leaf paths -\n",
    "  6->3->2\n",
    "  6->3->5->7\n",
    "  6->3->5->4\n",
    "  6->5>4\n",
    "\n",
    "</aside>"
   ]
  },
  {
   "cell_type": "code",
   "execution_count": 13,
   "id": "c50aa757",
   "metadata": {},
   "outputs": [
    {
     "name": "stdout",
     "output_type": "stream",
     "text": [
      "Root-to-leaf paths:\n",
      "6->3->2\n",
      "6->3->5->7\n",
      "6->3->5->4\n",
      "6->5->4\n"
     ]
    }
   ],
   "source": [
    "from collections import deque\n",
    "\n",
    "def printRootToLeafPaths(root):\n",
    "    if root is None:\n",
    "        return\n",
    "    \n",
    "    stack = deque()\n",
    "    stack.append((root, str(root.val)))\n",
    "    \n",
    "    while stack:\n",
    "        node, path = stack.pop()\n",
    "        \n",
    "        if node.left is None and node.right is None:\n",
    "            print(path)\n",
    "        \n",
    "        if node.right is not None:\n",
    "            stack.append((node.right, path + \"->\" + str(node.right.val)))\n",
    "        \n",
    "        if node.left is not None:\n",
    "            stack.append((node.left, path + \"->\" + str(node.left.val)))\n",
    "\n",
    "root = TreeNode(6)\n",
    "root.left = TreeNode(3)\n",
    "root.right = TreeNode(5)\n",
    "root.left.left = TreeNode(2)\n",
    "root.left.right = TreeNode(5)\n",
    "root.right.right = TreeNode(4)\n",
    "root.left.right.left = TreeNode(7)\n",
    "root.left.right.right = TreeNode(4)\n",
    "\n",
    "print(\"Root-to-leaf paths:\")\n",
    "printRootToLeafPaths(root)"
   ]
  },
  {
   "cell_type": "markdown",
   "id": "08cc8497",
   "metadata": {},
   "source": [
    "<aside>\n",
    "💡 Question-4:\n",
    "\n",
    "Given Preorder, Inorder and Postorder traversals of some tree. Write a program to check if they all are of the same tree.\n",
    "\n",
    "**Examples:**\n",
    "\n",
    "Input : \n",
    "\n",
    "        Inorder -> 4 2 5 1 3\n",
    "        Preorder -> 1 2 4 5 3\n",
    "        Postorder -> 4 5 2 3 1\n",
    "Output : \n",
    "\n",
    "Yes\n",
    "Explanation : \n",
    "\n",
    "All of the above three traversals are of\n",
    "the same tree \n",
    "\n",
    "                           1\n",
    "                         /   \\\n",
    "                        2     3\n",
    "                      /   \\\n",
    "                     4     5\n",
    "\n",
    "Input : \n",
    "\n",
    "        Inorder -> 4 2 5 1 3\n",
    "        Preorder -> 1 5 4 2 3\n",
    "        Postorder -> 4 1 2 3 5\n",
    "Output : \n",
    "\n",
    "No\n",
    "\n",
    "</aside>"
   ]
  },
  {
   "cell_type": "code",
   "execution_count": 6,
   "id": "e37afa0a",
   "metadata": {},
   "outputs": [],
   "source": [
    "def isSameTree(preorder, inorder, postorder):\n",
    "    if preorder == inorder == postorder:\n",
    "        return True\n",
    "    \n",
    "    if len(preorder) != len(inorder) or len(preorder) != len(postorder):\n",
    "        return False\n",
    "    \n",
    "    if set(preorder) != set(inorder) or set(preorder) != set(postorder):\n",
    "        return False\n",
    "    \n",
    "    return True\n"
   ]
  },
  {
   "cell_type": "code",
   "execution_count": 12,
   "id": "eb2c82e4",
   "metadata": {},
   "outputs": [
    {
     "name": "stdout",
     "output_type": "stream",
     "text": [
      "True\n",
      "True\n"
     ]
    }
   ],
   "source": [
    "preorder = [1, 2, 4, 5, 3]\n",
    "inorder = [4, 2, 5, 1, 3]\n",
    "postorder = [4, 5, 2, 3, 1]\n",
    "\n",
    "print(isSameTree(preorder, inorder, postorder))\n",
    "\n",
    "preorder = [1, 5, 4, 2, 3]\n",
    "inorder = [4, 2, 5, 1, 3]\n",
    "postorder = [4, 1, 2, 3, 5]\n",
    "\n",
    "print(isSameTree(preorder, inorder, postorder))\n"
   ]
  },
  {
   "cell_type": "code",
   "execution_count": null,
   "id": "3b1dcf03",
   "metadata": {},
   "outputs": [],
   "source": []
  }
 ],
 "metadata": {
  "kernelspec": {
   "display_name": "Python 3 (ipykernel)",
   "language": "python",
   "name": "python3"
  },
  "language_info": {
   "codemirror_mode": {
    "name": "ipython",
    "version": 3
   },
   "file_extension": ".py",
   "mimetype": "text/x-python",
   "name": "python",
   "nbconvert_exporter": "python",
   "pygments_lexer": "ipython3",
   "version": "3.10.9"
  }
 },
 "nbformat": 4,
 "nbformat_minor": 5
}
