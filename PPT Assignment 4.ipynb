{
 "cells": [
  {
   "cell_type": "raw",
   "id": "565c1ebc",
   "metadata": {},
   "source": [
    "💡 **Question 1**\n",
    "Given three integer arrays arr1, arr2 and arr3 **sorted** in **strictly increasing** order, return a sorted array of **only** the integers that appeared in **all** three arrays.\n",
    "\n",
    "**Example 1:**\n",
    "\n",
    "Input: arr1 = [1,2,3,4,5], arr2 = [1,2,5,7,9], arr3 = [1,3,4,5,8]\n",
    "\n",
    "Output: [1,5]\n",
    "\n",
    "**Explanation:** Only 1 and 5 appeared in the three arrays.\n"
   ]
  },
  {
   "cell_type": "code",
   "execution_count": 24,
   "id": "395b7fa3",
   "metadata": {},
   "outputs": [],
   "source": [
    "def common_elements(*args:list): # Using *args to get any number of arguments from the user\n",
    "    dct = {}\n",
    "    for arr in args:\n",
    "        for i in arr:\n",
    "            if i in dct:\n",
    "                dct[i]+=1\n",
    "            else:\n",
    "                dct[i] = 1\n",
    "    common_ele = []\n",
    "    for i in dct:\n",
    "        if dct[i] == len(args):\n",
    "            common_ele.append(i)\n",
    "    return common_ele"
   ]
  },
  {
   "cell_type": "code",
   "execution_count": 25,
   "id": "a2faa9b8",
   "metadata": {},
   "outputs": [
    {
     "data": {
      "text/plain": [
       "[1, 5]"
      ]
     },
     "execution_count": 25,
     "metadata": {},
     "output_type": "execute_result"
    }
   ],
   "source": [
    "\n",
    "arr1=[1,2,3,4,5]\n",
    "arr2=[1,2,5,7,9]\n",
    "arr3=[1,3,4,5,8]\n",
    "common_elements(arr1,arr2,arr3)"
   ]
  },
  {
   "cell_type": "raw",
   "id": "9dbb8417",
   "metadata": {},
   "source": [
    "💡 **Question 2**\n",
    "\n",
    "Given two **0-indexed** integer arrays nums1 and nums2, return *a list* answer *of size* 2 *where:*\n",
    "\n",
    "- answer[0] *is a list of all **distinct** integers in* nums1 *which are **not** present in* nums2*.*\n",
    "- answer[1] *is a list of all **distinct** integers in* nums2 *which are **not** present in* nums1.\n",
    "\n",
    "**Note** that the integers in the lists may be returned in **any** order.\n",
    "\n",
    "**Example 1:**\n",
    "\n",
    "**Input:** nums1 = [1,2,3], nums2 = [2,4,6]\n",
    "\n",
    "**Output:** [[1,3],[4,6]]\n",
    "\n",
    "**Explanation:**\n",
    "\n",
    "For nums1, nums1[1] = 2 is present at index 0 of nums2, whereas nums1[0] = 1 and nums1[2] = 3 are not present in nums2. Therefore, answer[0] = [1,3].\n",
    "\n",
    "For nums2, nums2[0] = 2 is present at index 1 of nums1, whereas nums2[1] = 4 and nums2[2] = 6 are not present in nums2. Therefore, answer[1] = [4,6].\n"
   ]
  },
  {
   "cell_type": "code",
   "execution_count": 26,
   "id": "6c8904a0",
   "metadata": {},
   "outputs": [],
   "source": [
    "def not_common(nums1,nums2):\n",
    "    for i in nums1:\n",
    "        if i in nums2:\n",
    "            nums1.remove(i)\n",
    "            nums2.remove(i)\n",
    "    return [nums1,nums2]"
   ]
  },
  {
   "cell_type": "code",
   "execution_count": 27,
   "id": "8149c693",
   "metadata": {},
   "outputs": [
    {
     "data": {
      "text/plain": [
       "[[1, 3], [4, 6]]"
      ]
     },
     "execution_count": 27,
     "metadata": {},
     "output_type": "execute_result"
    }
   ],
   "source": [
    "nums1 = [1,2,3]\n",
    "nums2 = [2,4,6]\n",
    "not_common(nums1,nums2)"
   ]
  },
  {
   "cell_type": "raw",
   "id": "765d512e",
   "metadata": {},
   "source": [
    "<aside>\n",
    "💡 **Question 3**\n",
    "Given a 2D integer array matrix, return *the **transpose** of* matrix.\n",
    "\n",
    "The **transpose** of a matrix is the matrix flipped over its main diagonal, switching the matrix's row and column indices.\n",
    "\n",
    "**Example 1:**\n",
    "\n",
    "Input: matrix = [[1,2,3],[4,5,6],[7,8,9]]\n",
    "\n",
    "Output: [[1,4,7],[2,5,8],[3,6,9]]\n",
    "\n",
    "</aside>"
   ]
  },
  {
   "cell_type": "code",
   "execution_count": 32,
   "id": "3a5f8006",
   "metadata": {},
   "outputs": [],
   "source": [
    "def Transpose(matrix):\n",
    "    for i in range(len(matrix)):\n",
    "        for j in range(i,len(matrix[0])):\n",
    "            matrix[i][j],matrix[j][i] = matrix[j][i],matrix[i][j]\n",
    "    return matrix\n",
    "        "
   ]
  },
  {
   "cell_type": "code",
   "execution_count": 33,
   "id": "7bb537a3",
   "metadata": {},
   "outputs": [
    {
     "data": {
      "text/plain": [
       "[[1, 4, 7], [2, 5, 8], [3, 6, 9]]"
      ]
     },
     "execution_count": 33,
     "metadata": {},
     "output_type": "execute_result"
    }
   ],
   "source": [
    "matrix = [[1,2,3],[4,5,6],[7,8,9]]\n",
    "Transpose(matrix)"
   ]
  },
  {
   "cell_type": "raw",
   "id": "9eda6669",
   "metadata": {},
   "source": [
    "<aside>\n",
    "💡 **Question 4**\n",
    "Given an integer array nums of 2n integers, group these integers into n pairs (a1, b1), (a2, b2), ..., (an, bn) such that the sum of min(ai, bi) for all i is **maximized**. Return *the maximized sum*.\n",
    "\n",
    "**Example 1:**\n",
    "\n",
    "Input: nums = [1,4,3,2]\n",
    "\n",
    "Output: 4\n",
    "\n",
    "**Explanation:** All possible pairings (ignoring the ordering of elements) are:\n",
    "\n",
    "1. (1, 4), (2, 3) -> min(1, 4) + min(2, 3) = 1 + 2 = 3\n",
    "\n",
    "2. (1, 3), (2, 4) -> min(1, 3) + min(2, 4) = 1 + 2 = 3\n",
    "\n",
    "3. (1, 2), (3, 4) -> min(1, 2) + min(3, 4) = 1 + 3 = 4\n",
    "\n",
    "So the maximum possible sum is 4.\n",
    "\n",
    "</aside>"
   ]
  },
  {
   "cell_type": "code",
   "execution_count": 47,
   "id": "106f54e7",
   "metadata": {},
   "outputs": [],
   "source": [
    "def maximised_sum(nums):\n",
    "    for i in range(len(nums)):\n",
    "        for j in range(i,len(nums)):\n",
    "            if nums[i] > nums[j]:\n",
    "                 nums[i],nums[j] = nums[j],nums[i]\n",
    "                    \n",
    "    max_sum = 0\n",
    "    for i in range(0,len(nums),2):\n",
    "        \n",
    "        max_sum += nums[i]\n",
    "        \n",
    "    return max_sum"
   ]
  },
  {
   "cell_type": "code",
   "execution_count": 48,
   "id": "91de85e0",
   "metadata": {},
   "outputs": [
    {
     "data": {
      "text/plain": [
       "4"
      ]
     },
     "execution_count": 48,
     "metadata": {},
     "output_type": "execute_result"
    }
   ],
   "source": [
    "nums = [1,4,3,2]\n",
    "\n",
    "maximised_sum(nums)"
   ]
  },
  {
   "cell_type": "markdown",
   "id": "9e0c44bf",
   "metadata": {},
   "source": [
    "💡 **Question 5**\n",
    "You have n coins and you want to build a staircase with these coins. The staircase consists of k rows where the ith row has exactly i coins. The last row of the staircase **may be** incomplete.\n",
    "\n",
    "Given the integer n, return *the number of **complete rows** of the staircase you will build*.\n",
    "\n",
    "**Example 1:**\n",
    "\n",
    "[]()\n",
    "\n",
    "![v2.jpg](https://s3-us-west-2.amazonaws.com/secure.notion-static.com/4bd91cfa-d2b1-47b3-8197-a72e8dcfff4b/v2.jpg)\n",
    "\n",
    "**Input:** n = 5\n",
    "\n",
    "**Output:** 2\n",
    "\n",
    "**Explanation:** Because the 3rd row is incomplete, we return 2.\n",
    "\n",
    "</aside>"
   ]
  },
  {
   "cell_type": "code",
   "execution_count": 17,
   "id": "5bebb940",
   "metadata": {},
   "outputs": [],
   "source": [
    "def staircase(n):\n",
    "    \n",
    "    n_staircase = 0\n",
    "    while True:\n",
    "        if n == cumsum(n_staircase):\n",
    "            return n_staircase\n",
    "        elif n > cumsum(n_staircase):\n",
    "            n_staircase += 1\n",
    "        \n",
    "        else:\n",
    "            return n_staircase -1\n",
    "        \n",
    "def cumsum(n):\n",
    "    if n  == 0:\n",
    "        return 0\n",
    "    else:\n",
    "        return n + cumsum(n-1)\n",
    "    "
   ]
  },
  {
   "cell_type": "code",
   "execution_count": 22,
   "id": "c9daf602",
   "metadata": {},
   "outputs": [
    {
     "data": {
      "text/plain": [
       "4"
      ]
     },
     "execution_count": 22,
     "metadata": {},
     "output_type": "execute_result"
    }
   ],
   "source": [
    "staircase(10)"
   ]
  },
  {
   "cell_type": "raw",
   "id": "f0b6b622",
   "metadata": {},
   "source": [
    "💡 **Question 6**\n",
    "Given an integer array nums sorted in **non-decreasing** order, return *an array of **the squares of each number** sorted in non-decreasing order*.\n",
    "\n",
    "**Example 1:**\n",
    "\n",
    "Input: nums = [-4,-1,0,3,10]\n",
    "\n",
    "Output: [0,1,9,16,100]\n",
    "\n",
    "**Explanation:** After squaring, the array becomes [16,1,0,9,100].\n",
    "After sorting, it becomes [0,1,9,16,100]\n"
   ]
  },
  {
   "cell_type": "code",
   "execution_count": 27,
   "id": "4fa71c61",
   "metadata": {},
   "outputs": [
    {
     "data": {
      "text/plain": [
       "[0, 1, 9, 16, 100]"
      ]
     },
     "execution_count": 27,
     "metadata": {},
     "output_type": "execute_result"
    }
   ],
   "source": [
    "def square_sorting(nums):\n",
    "    for i in range(len(nums)):\n",
    "        nums[i] = nums[i] * nums[i]\n",
    "    \n",
    "    for i in range(len(nums)):\n",
    "        for j in range(i,len(nums)):\n",
    "            if nums[i] > nums[j]:\n",
    "                 nums[i],nums[j] = nums[j],nums[i]\n",
    "    return nums\n",
    "\n",
    "square_sorting([-4,-1,0,3,10])"
   ]
  },
  {
   "cell_type": "raw",
   "id": "9ee5a3ef",
   "metadata": {},
   "source": [
    "💡 **Question 7**\n",
    "You are given an m x n matrix M initialized with all 0's and an array of operations ops, where ops[i] = [ai, bi] means M[x][y] should be incremented by one for all 0 <= x < ai and 0 <= y < bi.\n",
    "\n",
    "Count and return *the number of maximum integers in the matrix after performing all the operations*\n",
    "\n",
    "**Example 1:**\n",
    "\n",
    "![q4.jpg](https://s3-us-west-2.amazonaws.com/secure.notion-static.com/4d0890d0-7bc7-4f59-be8e-352d9f3c1c52/q4.jpg)\n",
    "\n",
    "**Input:** m = 3, n = 3, ops = [[2,2],[3,3]]\n",
    "\n",
    "**Output:** 4\n",
    "\n",
    "**Explanation:** The maximum integer in M is 2, and there are four of it in M. So return 4.\n"
   ]
  },
  {
   "cell_type": "code",
   "execution_count": 125,
   "id": "d0c3c5e1",
   "metadata": {},
   "outputs": [],
   "source": [
    "def trans_matrix(m,n,ops):\n",
    "    matrix = [[0] * m for _ in range(n)]\n",
    "    \n",
    "    for i in range(len(ops)):\n",
    "        matrix = ops_transform(matrix,ops)\n",
    "        ops = ops[i+1:]\n",
    "    \n",
    "    ans = count_matrix(matrix)\n",
    "    return ans\n",
    "    \n",
    "def ops_transform(matrix,ops):\n",
    "    for i in range(ops[0][0]):\n",
    "        for j in range(ops[0][1]):\n",
    "            matrix[i][j] += 1\n",
    "    return matrix\n",
    "\n",
    "def count_matrix(matrix):\n",
    "    dct = {}\n",
    "    for i in range(len(matrix)):\n",
    "        for j in range(len(matrix[0])):\n",
    "            if matrix[i][j] not in dct:\n",
    "                dct[matrix[i][j]] = 1\n",
    "            else:\n",
    "                 dct[matrix[i][j]] += 1\n",
    "                    \n",
    "    maxx = 0\n",
    "    \n",
    "    for i in dct:\n",
    "        if i > maxx:\n",
    "            maxx = i\n",
    "        \n",
    "    \n",
    "    for i in dct:\n",
    "        if i == maxx:\n",
    "            return dct[i]"
   ]
  },
  {
   "cell_type": "code",
   "execution_count": 126,
   "id": "c72bb53e",
   "metadata": {},
   "outputs": [],
   "source": [
    "m,n = 3,3\n",
    "ops = [[2,2],[3,3]]\n"
   ]
  },
  {
   "cell_type": "code",
   "execution_count": 127,
   "id": "5eaeec49",
   "metadata": {},
   "outputs": [
    {
     "data": {
      "text/plain": [
       "4"
      ]
     },
     "execution_count": 127,
     "metadata": {},
     "output_type": "execute_result"
    }
   ],
   "source": [
    "trans_matrix(m,n,ops)"
   ]
  },
  {
   "cell_type": "code",
   "execution_count": 94,
   "id": "1d97d23a",
   "metadata": {},
   "outputs": [
    {
     "data": {
      "text/plain": [
       "[[1, 1, 0], [1, 1, 0], [0, 0, 0]]"
      ]
     },
     "execution_count": 94,
     "metadata": {},
     "output_type": "execute_result"
    }
   ],
   "source": [
    "matrix = [[0] * m for _ in range(n)]\n",
    "for i in range(2):\n",
    "    for j in range(2):\n",
    "        matrix[i][j] +=1\n",
    "    \n",
    "matrix"
   ]
  },
  {
   "cell_type": "raw",
   "id": "0e592708",
   "metadata": {},
   "source": [
    "<aside>\n",
    "💡 **Question 8**\n",
    "\n",
    "Given the array nums consisting of 2n elements in the form [x1,x2,...,xn,y1,y2,...,yn].\n",
    "\n",
    "*Return the array in the form* [x1,y1,x2,y2,...,xn,yn].\n",
    "\n",
    "**Example 1:**\n",
    "\n",
    "**Input:** nums = [2,5,1,3,4,7], n = 3\n",
    "\n",
    "**Output:** [2,3,5,4,1,7]\n",
    "\n",
    "**Explanation:** Since x1=2, x2=5, x3=1, y1=3, y2=4, y3=7 then the answer is [2,3,5,4,1,7].\n"
   ]
  },
  {
   "cell_type": "code",
   "execution_count": 74,
   "id": "47145b18",
   "metadata": {},
   "outputs": [
    {
     "data": {
      "text/plain": [
       "[2, 3, 5, 4, 1, 7]"
      ]
     },
     "execution_count": 74,
     "metadata": {},
     "output_type": "execute_result"
    }
   ],
   "source": [
    "def solution_set(arr,n):\n",
    "    arr_sol = []\n",
    "    for i in range(n):\n",
    "        arr_sol.append(arr[i])\n",
    "        arr_sol.append(arr[i+n])\n",
    "    return arr_sol\n",
    "\n",
    "nums = [2,5,1,3,4,7]\n",
    "n = 3\n",
    "solution_set(nums,n)"
   ]
  },
  {
   "cell_type": "code",
   "execution_count": null,
   "id": "84d64db3",
   "metadata": {},
   "outputs": [],
   "source": []
  }
 ],
 "metadata": {
  "kernelspec": {
   "display_name": "Python 3 (ipykernel)",
   "language": "python",
   "name": "python3"
  },
  "language_info": {
   "codemirror_mode": {
    "name": "ipython",
    "version": 3
   },
   "file_extension": ".py",
   "mimetype": "text/x-python",
   "name": "python",
   "nbconvert_exporter": "python",
   "pygments_lexer": "ipython3",
   "version": "3.10.9"
  }
 },
 "nbformat": 4,
 "nbformat_minor": 5
}
