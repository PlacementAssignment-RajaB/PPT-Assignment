{
 "cells": [
  {
   "cell_type": "markdown",
   "id": "e9f80be3",
   "metadata": {},
   "source": [
    "<aside>\n",
    "💡 **Question 1**\n",
    "\n",
    "A permutation perm of n + 1 integers of all the integers in the range [0, n] can be represented as a string s of length n where:\n",
    "\n",
    "- s[i] == 'I' if perm[i] < perm[i + 1], and\n",
    "- s[i] == 'D' if perm[i] > perm[i + 1].\n",
    "\n",
    "Given a string s, reconstruct the permutation perm and return it. If there are multiple valid permutations perm, return **any of them**.\n",
    "\n",
    "**Example 1:**\n",
    "\n",
    "**Input:** s = \"IDID\"\n",
    "\n",
    "**Output:**\n",
    "\n",
    "[0,4,1,3,2]\n",
    "\n",
    "</aside>"
   ]
  },
  {
   "cell_type": "code",
   "execution_count": 5,
   "id": "180a81b4",
   "metadata": {},
   "outputs": [
    {
     "data": {
      "text/plain": [
       "[0, 4, 1, 3, 2]"
      ]
     },
     "execution_count": 5,
     "metadata": {},
     "output_type": "execute_result"
    }
   ],
   "source": [
    "def Permutation(string):\n",
    "    perm = [x for x in range(len(string)+1)]\n",
    "    out=[]\n",
    "    for i in range(len(string)):\n",
    "        if string[i] == \"I\":\n",
    "            out.append(min(perm))\n",
    "            perm.remove(min(perm))\n",
    "        else:\n",
    "            out.append(max(perm))\n",
    "            perm.remove(max(perm))\n",
    "    \n",
    "    for i in perm:\n",
    "        out.append(i)\n",
    "            \n",
    "    return out\n",
    "Permutation('IDID')"
   ]
  },
  {
   "cell_type": "markdown",
   "id": "dd8809ac",
   "metadata": {},
   "source": [
    "<aside>\n",
    "💡 **Question 2**\n",
    "\n",
    "You are given an m x n integer matrix matrix with the following two properties:\n",
    "\n",
    "- Each row is sorted in non-decreasing order.\n",
    "- The first integer of each row is greater than the last integer of the previous row.\n",
    "\n",
    "Given an integer target, return true *if* target *is in* matrix *or* false *otherwise*.\n",
    "\n",
    "You must write a solution in O(log(m * n)) time complexity.\n",
    "\n",
    "**Example 1:**\n",
    "\n",
    "<aside>\n",
    "💡 **Question 2**\n",
    "\n",
    "You are given an m x n integer matrix matrix with the following two properties:\n",
    "\n",
    "- Each row is sorted in non-decreasing order.\n",
    "- The first integer of each row is greater than the last integer of the previous row.\n",
    "\n",
    "Given an integer target, return true *if* target *is in* matrix *or* false *otherwise*.\n",
    "\n",
    "You must write a solution in O(log(m * n)) time complexity.\n",
    "\n",
    "**Example 1:**\n",
    "\n",
    "![Screenshot 2023-05-29 005303.png](https://s3-us-west-2.amazonaws.com/secure.notion-static.com/e4b0271f-15f0-4744-826b-18500ccfcb75/Screenshot_2023-05-29_005303.png)\n",
    "\n",
    "\n",
    "**Input:** matrix = [[1,3,5,7],[10,11,16,20],[23,30,34,60]], target = 3\n",
    "\n",
    "**Output:** true\n",
    "\n",
    "</aside>"
   ]
  },
  {
   "cell_type": "code",
   "execution_count": 7,
   "id": "81473130",
   "metadata": {},
   "outputs": [
    {
     "name": "stdout",
     "output_type": "stream",
     "text": [
      "True\n"
     ]
    }
   ],
   "source": [
    "## function definition\n",
    "def searchSortedMatrix(matrix, target):\n",
    "    ## number of rows\n",
    "    m = len(matrix)\n",
    "    if m == 0:\n",
    "        return False\n",
    "    n = len(matrix[0])\n",
    "    \n",
    "    ## binary search implementation\n",
    "    left, right = 0, m*n-1\n",
    "    while left <= right:\n",
    "        mid = left + (right - left)//2\n",
    "         \n",
    "        mid_element = matrix[mid//n][mid%n]\n",
    "        if target == mid_element:\n",
    "            return True\n",
    "        elif target < mid_element:\n",
    "            right = mid - 1\n",
    "        else:\n",
    "            left = mid + 1\n",
    "    return False\n",
    "\n",
    "matrix = [[1,3,5,7], [10,11,16,20],[23,30,34,60]]\n",
    "target = 11\n",
    "result = searchSortedMatrix(matrix, target)\n",
    "print(result)"
   ]
  },
  {
   "cell_type": "markdown",
   "id": "c945e92d",
   "metadata": {},
   "source": [
    "<aside>\n",
    "💡 **Question 3**\n",
    "\n",
    "Given an array of integers arr, return *true if and only if it is a valid mountain array*.\n",
    "\n",
    "Recall that arr is a mountain array if and only if:\n",
    "\n",
    "- arr.length >= 3\n",
    "- There exists some i with 0 < i < arr.length - 1 such that:\n",
    "    - arr[0] < arr[1] < ... < arr[i - 1] < arr[i]\n",
    "    - arr[i] > arr[i + 1] > ... > arr[arr.length - 1]\n",
    "\n",
    "![Screenshot 2023-05-29 005352.png](https://s3-us-west-2.amazonaws.com/secure.notion-static.com/5565e778-ac57-4ced-85a2-ccb13268bdf6/Screenshot_2023-05-29_005352.png)\n",
    "\n",
    "\n",
    "**Example 1:**\n",
    "\n",
    "**Input:** arr = [2,1]\n",
    "\n",
    "**Output:**\n",
    "\n",
    "false\n",
    "\n",
    "</aside>"
   ]
  },
  {
   "cell_type": "code",
   "execution_count": 8,
   "id": "a41eac1a",
   "metadata": {},
   "outputs": [
    {
     "data": {
      "text/plain": [
       "False"
      ]
     },
     "execution_count": 8,
     "metadata": {},
     "output_type": "execute_result"
    }
   ],
   "source": [
    "def isMountainarray(arr):\n",
    "    \n",
    "    if len(arr) > 3:\n",
    "        \n",
    "        if arr[0] < arr[len(arr)-1]:\n",
    "            \n",
    "            for i in range(len(arr)-1):\n",
    "                if arr[i] > arr[i+1]:\n",
    "                    return False\n",
    "                else:\n",
    "                    return True\n",
    "        else:\n",
    "            for i in range(len(arr)-1):\n",
    "                if arr[i] < arr[i+1]:\n",
    "                    return False\n",
    "                else:\n",
    "                    return True\n",
    "    else:\n",
    "        return False\n",
    "    \n",
    "isMountainarray([2,1])"
   ]
  },
  {
   "cell_type": "markdown",
   "id": "01547e81",
   "metadata": {},
   "source": [
    "<aside>\n",
    "💡 **Question 4**\n",
    "\n",
    "Given a binary array nums, return *the maximum length of a contiguous subarray with an equal number of* 0 *and* 1.\n",
    "\n",
    "**Example 1:**\n",
    "\n",
    "**Input:** nums = [0,1]\n",
    "\n",
    "**Output:** 2\n",
    "\n",
    "**Explanation:**\n",
    "\n",
    "[0, 1] is the longest contiguous subarray with an equal number of 0 and 1.\n",
    "\n",
    "</aside>"
   ]
  },
  {
   "cell_type": "code",
   "execution_count": 22,
   "id": "a7d2a18b",
   "metadata": {},
   "outputs": [
    {
     "data": {
      "text/plain": [
       "4"
      ]
     },
     "execution_count": 22,
     "metadata": {},
     "output_type": "execute_result"
    }
   ],
   "source": [
    "def longest_contigous_binary(arr):\n",
    "    zero,one = 0,0\n",
    "    \n",
    "    for i in range(len(arr)):\n",
    "        if arr[i] == 0:\n",
    "            zero += 1\n",
    "        else:\n",
    "            one += 1\n",
    "        \n",
    "        if i%2 != 0:\n",
    "            if zero != one:\n",
    "                return len(arr[:i])\n",
    "                break\n",
    "                \n",
    "    if zero != one:\n",
    "        return len(arr[:i])\n",
    "        \n",
    "        \n",
    "    return len(arr)\n",
    "\n",
    "longest_contigous_binary([1,0,1,0,1])"
   ]
  },
  {
   "cell_type": "markdown",
   "id": "5dbdc25c",
   "metadata": {},
   "source": [
    "<aside>\n",
    "💡 **Question 5**\n",
    "\n",
    "The **product sum** of two equal-length arrays a and b is equal to the sum of a[i] * b[i] for all 0 <= i < a.length (**0-indexed**).\n",
    "\n",
    "- For example, if a = [1,2,3,4] and b = [5,2,3,1], the **product sum** would be 1*5 + 2*2 + 3*3 + 4*1 = 22.\n",
    "\n",
    "Given two arrays nums1 and nums2 of length n, return *the **minimum product sum** if you are allowed to **rearrange** the **order** of the elements in* nums1.\n",
    "\n",
    "**Example 1:**\n",
    "\n",
    "**Input:** nums1 = [5,3,4,2], nums2 = [4,2,2,5]\n",
    "\n",
    "**Output:** 40\n",
    "\n",
    "**Explanation:**\n",
    "\n",
    "We can rearrange nums1 to become [3,5,4,2]. The product sum of [3,5,4,2] and [4,2,2,5] is 3*4 + 5*2 + 4*2 + 2*5 = 40.\n",
    "\n",
    "</aside>"
   ]
  },
  {
   "cell_type": "code",
   "execution_count": 26,
   "id": "0f16418d",
   "metadata": {},
   "outputs": [
    {
     "data": {
      "text/plain": [
       "44"
      ]
     },
     "execution_count": 26,
     "metadata": {},
     "output_type": "execute_result"
    }
   ],
   "source": [
    "nums1 = [5,3,4,2]\n",
    "nums2 = [4,2,2,5]\n",
    "\n",
    "def Product_sumarrays(arr1,arr2):\n",
    "    product = []\n",
    "    for i in range(len(arr1)):\n",
    "        product.append(arr1[i] * arr2[i])\n",
    "    \n",
    "    product_sum = 0\n",
    "    \n",
    "    for j in product:\n",
    "        product_sum += j\n",
    "    \n",
    "    return product_sum\n",
    "\n",
    "Product_sumarrays(nums1,nums2)"
   ]
  },
  {
   "cell_type": "markdown",
   "id": "8fb1df77",
   "metadata": {},
   "source": [
    "<aside>\n",
    "💡 **Question 6**\n",
    "\n",
    "An integer array original is transformed into a **doubled** array changed by appending **twice the value** of every element in original, and then randomly **shuffling** the resulting array.\n",
    "\n",
    "Given an array changed, return original *if* changed *is a **doubled** array. If* changed *is not a **doubled** array, return an empty array. The elements in* original *may be returned in **any** order*.\n",
    "\n",
    "**Example 1:**\n",
    "\n",
    "**Input:** changed = [1,3,4,2,6,8]\n",
    "\n",
    "**Output:** [1,3,4]\n",
    "\n",
    "**Explanation:** One possible original array could be [1,3,4]:\n",
    "\n",
    "- Twice the value of 1 is 1 * 2 = 2.\n",
    "- Twice the value of 3 is 3 * 2 = 6.\n",
    "- Twice the value of 4 is 4 * 2 = 8.\n",
    "\n",
    "Other original arrays could be [4,3,1] or [3,1,4].\n",
    "\n",
    "</aside>"
   ]
  },
  {
   "cell_type": "code",
   "execution_count": 27,
   "id": "89b75685",
   "metadata": {},
   "outputs": [
    {
     "data": {
      "text/plain": [
       "[1, 3, 4]"
      ]
     },
     "execution_count": 27,
     "metadata": {},
     "output_type": "execute_result"
    }
   ],
   "source": [
    "def isdoubled(arr):\n",
    "    mid = len(arr)//2\n",
    "    \n",
    "    for i in range(mid):\n",
    "                \n",
    "        if arr[i]*2 == (arr[mid+i]):\n",
    "            continue\n",
    "        else:\n",
    "            return []\n",
    "    \n",
    "    return arr[:mid]\n",
    "\n",
    "isdoubled([1,3,4,2,6,8])"
   ]
  },
  {
   "cell_type": "markdown",
   "id": "197eab8f",
   "metadata": {},
   "source": [
    "**Question 7**\n",
    "\n",
    "Given a positive integer n, generate an n x n matrix filled with elements from 1 to n2 in spiral order.\n",
    "\n",
    "**Example 1:**\n",
    "\n",
    "**Input:** n = 3\n",
    "\n",
    "**Output:** [[1,2,3],[8,9,4],[7,6,5]]\n",
    "\n"
   ]
  },
  {
   "cell_type": "code",
   "execution_count": 29,
   "id": "7259019c",
   "metadata": {},
   "outputs": [
    {
     "name": "stdout",
     "output_type": "stream",
     "text": [
      "[[1, 2, 3], [8, 9, 4], [7, 6, 5]]\n"
     ]
    }
   ],
   "source": [
    "def generateMatrix(n):\n",
    "    matrix = [[0] * n for _ in range(n)]\n",
    "    num = 1\n",
    "    left, right, top, bottom = 0, n - 1, 0, n - 1\n",
    "\n",
    "    while num <= n * n:\n",
    "        for i in range(left, right + 1):\n",
    "            matrix[top][i] = num\n",
    "            num += 1\n",
    "        top += 1\n",
    "\n",
    "        for i in range(top, bottom + 1):\n",
    "            matrix[i][right] = num\n",
    "            num += 1\n",
    "        right -= 1\n",
    "\n",
    "        for i in range(right, left - 1, -1):\n",
    "            matrix[bottom][i] = num\n",
    "            num += 1\n",
    "        bottom -= 1\n",
    "\n",
    "        for i in range(bottom, top - 1, -1):\n",
    "            matrix[i][left] = num\n",
    "            num += 1\n",
    "        left += 1\n",
    "\n",
    "    return matrix\n",
    "n = 3\n",
    "result = generateMatrix(n)\n",
    "print(result)"
   ]
  },
  {
   "cell_type": "markdown",
   "id": "feec7e87",
   "metadata": {},
   "source": [
    " **Question 8**\n",
    "\n",
    "Given two [sparse matrices](https://en.wikipedia.org/wiki/Sparse_matrix) mat1 of size m x k and mat2 of size k x n, return the result of mat1 x mat2. You may assume that multiplication is always possible.\n",
    "\n",
    "**Example 1:**\n",
    "\n",
    "**Input:** mat1 = [[1,0,0],[-1,0,3]], mat2 = [[7,0,0],[0,0,0],[0,0,1]]\n",
    "\n",
    "**Output:**\n",
    "\n",
    "[[7,0,0],[-7,0,3]]\n",
    "\n"
   ]
  },
  {
   "cell_type": "code",
   "execution_count": 33,
   "id": "6f419a84",
   "metadata": {},
   "outputs": [
    {
     "data": {
      "text/plain": [
       "[[7, 0, 0], [-7, 0, 3]]"
      ]
     },
     "execution_count": 33,
     "metadata": {},
     "output_type": "execute_result"
    }
   ],
   "source": [
    "def Matrix_Multiplication(mat1,mat2):\n",
    "    \n",
    "    c = [[0]*len(mat2[0]) for _ in range(len(mat1))]\n",
    "    \n",
    "    for i in range(len(mat1)):\n",
    "        \n",
    "        for j in range(len(mat2[0])):\n",
    "            \n",
    "            for k in range(len(mat1[0])):\n",
    "                \n",
    "                c[i][j] += mat1[i][k] * mat2[k][j]\n",
    "                \n",
    "    return c\n",
    "\n",
    "mat1 = [[1,0,0],[-1,0,3]]\n",
    "mat2 = [[7,0,0],[0,0,0],[0,0,1]]\n",
    "\n",
    "Matrix_Multiplication(mat1 , mat2)"
   ]
  },
  {
   "cell_type": "code",
   "execution_count": null,
   "id": "51edd9a1",
   "metadata": {},
   "outputs": [],
   "source": []
  }
 ],
 "metadata": {
  "kernelspec": {
   "display_name": "Python 3 (ipykernel)",
   "language": "python",
   "name": "python3"
  },
  "language_info": {
   "codemirror_mode": {
    "name": "ipython",
    "version": 3
   },
   "file_extension": ".py",
   "mimetype": "text/x-python",
   "name": "python",
   "nbconvert_exporter": "python",
   "pygments_lexer": "ipython3",
   "version": "3.10.9"
  }
 },
 "nbformat": 4,
 "nbformat_minor": 5
}
